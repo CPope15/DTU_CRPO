{
 "cells": [
  {
   "cell_type": "markdown",
   "metadata": {},
   "source": [
    "# Notes"
   ]
  },
  {
   "cell_type": "markdown",
   "metadata": {},
   "source": [
    "v2.2: added pitch angle \n",
    "\n",
    "v2.1: first iteration after changing from v1.3 manual model."
   ]
  },
  {
   "cell_type": "markdown",
   "metadata": {},
   "source": [
    "# Import"
   ]
  },
  {
   "cell_type": "code",
   "execution_count": 4,
   "metadata": {},
   "outputs": [],
   "source": [
    "import os\n",
    "import functions\n",
    "import numpy as np\n",
    "import pandas as pd\n",
    "from scipy.interpolate import interp1d\n",
    "import jmespath\n",
    "\n",
    "from windio_converter.io import HAWC2_dict\n",
    "from windio_converter.io import HTC_dict"
   ]
  },
  {
   "cell_type": "markdown",
   "metadata": {},
   "source": [
    "# Inputs"
   ]
  },
  {
   "cell_type": "code",
   "execution_count": 5,
   "metadata": {},
   "outputs": [],
   "source": [
    "template_file = \"IEA_15MW_RWT_UMaineSemi\"\n",
    "base_filename = \"15MW_Floating\"\n",
    "iea15_windio_repo_fpath =  \"C:/CRPO/02_Running_area/DTU_Thesis/1_WindIO_testing/test_iea15mw_floater5/IEA15MW_Floating\" #updated with morison model\n",
    "iea15_doc_fpath = \"C:/CRPO/02_Running_area/DTU_Thesis/IEA-15-240-RWT/Documentation\"\n",
    "iea15_file = \"IEA-15-240-RWT_tabular.xlsx\""
   ]
  },
  {
   "cell_type": "code",
   "execution_count": 6,
   "metadata": {},
   "outputs": [],
   "source": [
    "iea15_data = pd.read_excel(os.path.join(iea15_doc_fpath,iea15_file),sheet_name=\"Rotor Performance\")"
   ]
  },
  {
   "cell_type": "code",
   "execution_count": 7,
   "metadata": {},
   "outputs": [],
   "source": [
    "new_data = \"operation.txt\"\n",
    "iea15_data2 = pd.read_csv(os.path.join(iea15_doc_fpath,new_data), sep=';')\n",
    "iea15_data2.columns = iea15_data2.columns.str.strip()\n",
    "iea15_data2[\"Rotor Speed [rads]\"] = iea15_data2[\"Rotor Speed [rpm]\"]*(2 * np.pi / 60)\n"
   ]
  },
  {
   "cell_type": "markdown",
   "metadata": {},
   "source": [
    "# General Functions"
   ]
  },
  {
   "cell_type": "code",
   "execution_count": 8,
   "metadata": {},
   "outputs": [],
   "source": [
    "def interpolate_value(x_var,y_var,df,chosen_x_value):\n",
    "    \"\"\"\n",
    "    Interpolates the y-value for a given x-value based on a dataframe.\n",
    "\n",
    "    Parameters:\n",
    "    x_var (str): The name of the column with x values (independent variable).\n",
    "    y_var (str): The name of the column with y values (dependent variable).\n",
    "    df (pd.DataFrame): The dataframe containing the data. \n",
    "    chosen_x_value (float): The x-value for which to estimate the y-value.\n",
    "\n",
    "    Returns:\n",
    "    float: The interpolated y-value.\n",
    "    \"\"\"\n",
    "    # Ensure the dataframe is sorted by the x_column\n",
    "    df = df.sort_values(by=x_var)\n",
    "    # Create an interpolation function\n",
    "    interp_func = interp1d(df[x_var], df[y_var], kind=\"linear\", fill_value=\"extrapolate\")\n",
    "    # Interpolate the value\n",
    "    interpolated_value = interp_func(chosen_x_value)\n",
    "    return interpolated_value"
   ]
  },
  {
   "cell_type": "code",
   "execution_count": 9,
   "metadata": {},
   "outputs": [],
   "source": [
    "def load_iea15_template(template_file, base_filename, repo_path):\n",
    "    \"\"\"\n",
    "    Load the IEA 15MW HAWC2 template and return the dictionary.\n",
    "    \n",
    "    Args:\n",
    "        template_file (str): Name of the HAWC2 template file without extension.\n",
    "        base_filename (str): Start of all new files without extension.\n",
    "        repo_path (str): Path to the repository containing the template HAWC2 files.\n",
    "\n",
    "    Returns:\n",
    "        dict: The resulting IEA 15MW HAWC2 dictionary of the template model ready to be manipulated.\n",
    "    \"\"\"\n",
    "    iea15_H2 = HAWC2_dict().read_hawc2(repo_path, \"htc/%s.htc\"%template_file)\n",
    "    iea15_H2_dict = iea15_H2.copy()\n",
    "    iea15_H2_dict['htc_filename']='./htc/%s.htc'%base_filename\n",
    "    iea15_H2_dict[\"htc\"][\"simulation\"][\"visualization\"] = \"./visualization/%s.hdf5\"%base_filename\n",
    "    iea15_H2_dict[\"htc\"][\"simulation\"][\"logfile\"] = \"./log/%s.log\"%base_filename\n",
    "    iea15_H2_dict[\"htc\"][\"output\"][\"filename\"] = \"./res/%s.hdf5\"%base_filename\n",
    "    iea15_H2_dict[\"htc\"][\"simulation\"][\"animation\"] = \"./ani/%s.dat\"%base_filename\n",
    "    #iea15_H2_dict[\"htc\"][\"new_htc_structure\"][\"ext_sys\"][0][\"data\"][0][1] = './HydroData/IEA-15-240-RWT-UMaineSemi'\n",
    "    return iea15_H2_dict"
   ]
  },
  {
   "cell_type": "code",
   "execution_count": 10,
   "metadata": {},
   "outputs": [],
   "source": [
    "def create_file_names(iea15_H2_dict, file_name_add, prepend_str=None):\n",
    "    \"\"\"\n",
    "    Create new file names for HAWC2 files and return the dictionary.\n",
    "    \n",
    "    Args:\n",
    "        iea15_H2_dict (HAWC2_dict): HAWC2 dictionary object\n",
    "        file_name_add (str): string of the descriptive text to add\n",
    "        prepend_str (str)(optional): If given, prepends the file names with this string\n",
    "\n",
    "    Returns:\n",
    "        dict: The resulting IEA 15MW HAWC2 dictionary with adjusted file names.\n",
    "    \"\"\"\n",
    "    # add str to end of file names\n",
    "    iea15_H2_dict[\"htc_filename\"] = \".\".join(iea15_H2_dict[\"htc_filename\"].split(\".\")[:-1])+\"%s.htc\"%file_name_add\n",
    "    iea15_H2_dict[\"htc\"][\"simulation\"][\"visualization\"] = \".\".join(iea15_H2_dict[\"htc\"][\"simulation\"][\"visualization\"].split(\".\")[:-1])+\"%s.hdf5\"%file_name_add\n",
    "    iea15_H2_dict[\"htc\"][\"simulation\"][\"logfile\"] = \".\".join(iea15_H2_dict[\"htc\"][\"simulation\"][\"logfile\"].split(\".\")[:-1])+\"%s.log\"%file_name_add\n",
    "    iea15_H2_dict[\"htc\"][\"output\"][\"filename\"] = \".\".join(iea15_H2_dict[\"htc\"][\"output\"][\"filename\"].split(\".\")[:-1])+\"%s.hdf5\"%file_name_add #.hdf5 is doubled but it works\n",
    "    iea15_H2_dict[\"htc\"][\"simulation\"][\"animation\"] = \".\".join(iea15_H2_dict[\"htc\"][\"simulation\"][\"animation\"].split(\".\")[:-1])+\"%s.dat\"%file_name_add\n",
    "    # Optional: prepend str to beginning of file names\n",
    "    if prepend_str:\n",
    "        iea15_H2_dict[\"htc_filename\"] = iea15_H2_dict[\"htc_filename\"].replace(\"htc/\",\"htc/%s\")%prepend_str\n",
    "        iea15_H2_dict[\"htc\"][\"simulation\"][\"visualization\"] = iea15_H2_dict[\"htc\"][\"simulation\"][\"visualization\"].replace(\"visualization/\",\"visualization/%s\")%prepend_str\n",
    "        iea15_H2_dict[\"htc\"][\"simulation\"][\"logfile\"] = iea15_H2_dict[\"htc\"][\"simulation\"][\"logfile\"].replace(\"log/\",\"log/%s\")%prepend_str\n",
    "        iea15_H2_dict[\"htc\"][\"output\"][\"filename\"] = iea15_H2_dict[\"htc\"][\"output\"][\"filename\"].replace(\"res/\",\"res/%s\")%prepend_str\n",
    "        iea15_H2_dict[\"htc\"][\"simulation\"][\"animation\"] = iea15_H2_dict[\"htc\"][\"simulation\"][\"animation\"].replace(\"ani/\",\"ani/%s\")%prepend_str\n",
    "    return iea15_H2_dict"
   ]
  },
  {
   "cell_type": "code",
   "execution_count": 11,
   "metadata": {},
   "outputs": [],
   "source": [
    "def remove_viz_ani(iea15_H2_dict):\n",
    "    iea15_H2_dict[\"htc\"][\"simulation\"].update({\"visualization\":None}) # removes heavy files\n",
    "    iea15_H2_dict[\"htc\"][\"simulation\"].update({\"animation\":None}) # removes heavy files\n",
    "    return iea15_H2_dict"
   ]
  },
  {
   "cell_type": "markdown",
   "metadata": {},
   "source": [
    "# HAWC2 Model Adjustments"
   ]
  },
  {
   "cell_type": "code",
   "execution_count": 12,
   "metadata": {},
   "outputs": [],
   "source": [
    "def add_str_damping(iea15_H2_dict):\n",
    "    b1 = jmespath.search(\n",
    "    \"new_htc_structure.main_body[?contains(name,'blade1')]|[0]\", iea15_H2_dict[\"htc\"].as_dict())\n",
    "    i1_ = iea15_H2_dict[\"htc\"][\"new_htc_structure\"][\"main_body\"].index(b1)\n",
    "    b2 = jmespath.search(\n",
    "    \"new_htc_structure.main_body[?contains(name,'main_column')]|[0]\", iea15_H2_dict[\"htc\"].as_dict())\n",
    "    i2_ = iea15_H2_dict[\"htc\"][\"new_htc_structure\"][\"main_body\"].index(b2)\n",
    "    b3 = jmespath.search(\n",
    "    \"new_htc_structure.main_body[?contains(name,'shaft')]|[0]\", iea15_H2_dict[\"htc\"].as_dict())\n",
    "    i3_ = iea15_H2_dict[\"htc\"][\"new_htc_structure\"][\"main_body\"].index(b3)\n",
    "    b4 = jmespath.search(\n",
    "    \"new_htc_structure.main_body[?contains(name,'tower')]|[0]\", iea15_H2_dict[\"htc\"].as_dict())\n",
    "    i4_ = iea15_H2_dict[\"htc\"][\"new_htc_structure\"][\"main_body\"].index(b4)\n",
    "    iea15_H2_dict[\"htc\"][\"new_htc_structure\"][\"main_body\"][i1_].update( # Blade1\n",
    "        {\"damping_aniso\":[0.0, 0.0, 0.0, 0.003038, 0.002167, 1e-04]})\n",
    "    iea15_H2_dict[\"htc\"][\"new_htc_structure\"][\"main_body\"][i2_].update( # TOWER\n",
    "        {\"damping_posdef\":[0.0, 0.0, 0.0, 0.001533, 0.001533, 1.1940e-04]})\n",
    "    iea15_H2_dict[\"htc\"][\"new_htc_structure\"][\"main_body\"][i3_].update( # Blade1\n",
    "        {\"damping_posdef\":[0.0, 0.0, 0.0, 0.000465, 0.000465, 0.0005971406]})\n",
    "    iea15_H2_dict[\"htc\"][\"new_htc_structure\"][\"main_body\"][i4_].update( # Blade1\n",
    "        {\"damping_posdef\":[0.0, 0.0, 0.0, 0.004, 0.004, 0.0004]})\n",
    "    iea15_H2_dict[\"htc\"][\"new_htc_structure\"][\"main_body\"][i1_].add_comment(\n",
    "        \"damping_aniso\", [\"NoFPM. blade damping tuned to 3% log dec flap/edge, torsion arbitrarily small\"])\n",
    "    iea15_H2_dict[\"htc\"][\"new_htc_structure\"][\"main_body\"][i2_].add_comment(\n",
    "        \"damping_posdef\", [\"main_column - taken from FANGHONZ model\"])\n",
    "    iea15_H2_dict[\"htc\"][\"new_htc_structure\"][\"main_body\"][i3_].add_comment(\n",
    "        \"damping_posdef\", [\"Kx=Ky=dummy; Kz tuned to 5% critical for free-free Ig, Ir\"])\n",
    "    iea15_H2_dict[\"htc\"][\"new_htc_structure\"][\"main_body\"][i4_].add_comment(\n",
    "        \"damping_posdef\", [\"tuned to 1% critical (approx 6% log dec) on 1st FA(0.79 Hz)/SS(0.79 Hz)/torsion(8 Hz) modes (#1, #2, #7)\"])\n",
    "    return iea15_H2_dict"
   ]
  },
  {
   "cell_type": "code",
   "execution_count": 13,
   "metadata": {},
   "outputs": [],
   "source": [
    "def adj_blade_output_WINDIO(iea15_H2_dict):\n",
    "    #iea15_H2_dict[\"htc\"][\"output\"][\"mbdy\"][13] = HAWC2_dict([\"state\",\"pos\", \"blade1\", 33, 1.0, \"global\", \"#\", \"gl\", \"blade\", 1, \"tip\", \"pos\"])\n",
    "    iea15_H2_dict[\"htc\"][\"output\"][\"mbdy\"][13] = [\"state\",\"pos\", \"blade1\", 49, 1.0, \"global\", \"#\", \"gl\", \"blade\", 1, \"tip\", \"pos\"]\n",
    "    iea15_H2_dict[\"htc\"][\"output\"][\"mbdy\"].append([\"state\",\"pos\", \"blade2\", 49, 1.0, \"global\", \"#\", \"gl\", \"blade\", 2, \"tip\", \"pos\"])\n",
    "    iea15_H2_dict[\"htc\"][\"output\"][\"mbdy\"].append([\"state\",\"pos\", \"blade3\", 49, 1.0, \"global\", \"#\", \"gl\", \"blade\", 3, \"tip\", \"pos\"])\n",
    "    iea15_H2_dict[\"htc\"][\"output\"][\"mbdy\"].append([\"state\",\"pos\", \"main_column\", 1, 1.0, \"global\", \"#\", \"gl\", \"main_col\", 1, \"main_col\", \"pos\"])\n",
    "    iea15_H2_dict[\"htc\"][\"output\"][\"mbdy\"].append([\"state\",\"pos\", \"blade1\", 49, 1.0, \"blade1\", \"#\", \"local\", \"blade\", 1, \"tip\", \"pos\"])\n",
    "    #cannot figure out how to update that item with new values. it works to add a new one using append.\n",
    "    #this should be moved to the original call. It will need to be changed for all.\n",
    "    return iea15_H2_dict      "
   ]
  },
  {
   "cell_type": "code",
   "execution_count": 14,
   "metadata": {},
   "outputs": [],
   "source": [
    "def adj_shaft_mass(iea15_H2_dict):\n",
    "    b1 = jmespath.search(\n",
    "    \"new_htc_structure.main_body[?contains(name,'shaft')]|[0]\", iea15_H2_dict[\"htc\"].as_dict())\n",
    "    i1_ = iea15_H2_dict[\"htc\"][\"new_htc_structure\"][\"main_body\"].index(b1)\n",
    "    iea15_H2_dict[\"htc\"][\"new_htc_structure\"][\"main_body\"][i1_][\"concentrated_mass\"] = [\n",
    "        2, 0.0, 0.0, 0.0, 74047.92381236985, 657030.8595927294, 657030.8595927294, 1047177.2663337903, -1.4628147254506958e-27, -2.388957741071408e-11, 2.388957741071408e-11]"
   ]
  },
  {
   "cell_type": "code",
   "execution_count": 15,
   "metadata": {},
   "outputs": [],
   "source": [
    "def adj_ae_pc_files(iea15_H2_dict):\n",
    "    iea15_H2_dict[\"htc\"][\"aero\"][\"ae_filename\"] = \"./data/IEA15MW_ae.dat\"\n",
    "    iea15_H2_dict[\"htc\"][\"aero\"][\"pc_filename\"] = \"./data/IEA15MW_pc.dat\""
   ]
  },
  {
   "cell_type": "code",
   "execution_count": 16,
   "metadata": {},
   "outputs": [],
   "source": [
    "def adj_ESYSmooring_ID(iea15_H2_dict):\n",
    "    iea15_H2_dict[\"htc\"][\"new_htc_structure\"][\"constraint\"][\"dll\"][3][\"id\"] = 10 # change from 0\n",
    "    iea15_H2_dict[\"htc\"][\"new_htc_structure\"][\"constraint\"][\"dll\"][4][\"id\"] = 10 # change from 0\n",
    "    iea15_H2_dict[\"htc\"][\"new_htc_structure\"][\"constraint\"][\"dll\"][5][\"id\"] = 10 # change from 0"
   ]
  },
  {
   "cell_type": "code",
   "execution_count": 17,
   "metadata": {},
   "outputs": [],
   "source": [
    "def flood_pontoons(iea15_H2_dict):\n",
    "    indexes = []\n",
    "    b1 = jmespath.search(\n",
    "    \"hydro.hydro_element[?contains(mbdy_name,'Y_pontoon_lower1')]|[0]\", iea15_H2_dict[\"htc\"].as_dict())\n",
    "    indexes.append(iea15_H2_dict[\"htc\"][\"hydro\"][\"hydro_element\"].index(b1))\n",
    "    b2 = jmespath.search(\n",
    "    \"hydro.hydro_element[?contains(mbdy_name,'Y_pontoon_lower2')]|[0]\", iea15_H2_dict[\"htc\"].as_dict())\n",
    "    indexes.append(iea15_H2_dict[\"htc\"][\"hydro\"][\"hydro_element\"].index(b2))\n",
    "    b3 = jmespath.search(\n",
    "    \"hydro.hydro_element[?contains(mbdy_name,'Y_pontoon_lower3')]|[0]\", iea15_H2_dict[\"htc\"].as_dict())\n",
    "    indexes.append(iea15_H2_dict[\"htc\"][\"hydro\"][\"hydro_element\"].index(b3))\n",
    "    \n",
    "    for i in indexes:\n",
    "        iea15_H2_dict[\"htc\"][\"hydro\"][\"hydro_element\"][i][\"sec\"][0][10] = iea15_H2_dict[\"htc\"][\"hydro\"][\"hydro_element\"][i][\"sec\"][0][3] * 0.975\n",
    "        iea15_H2_dict[\"htc\"][\"hydro\"][\"hydro_element\"][i][\"sec\"][1][10] = iea15_H2_dict[\"htc\"][\"hydro\"][\"hydro_element\"][i][\"sec\"][1][3] * 0.975\n"
   ]
  },
  {
   "cell_type": "code",
   "execution_count": 18,
   "metadata": {},
   "outputs": [],
   "source": [
    "def add_aero_sec_int_forces(iea15_H2_dict):\n",
    "    iea15_H2_dict[\"htc\"][\"output\"][\"aero\"].append([\"secforce\", 1, 1, 10])\n",
    "    iea15_H2_dict[\"htc\"][\"output\"][\"aero\"].append([\"secforce\", 1, 2, 10])\n",
    "    iea15_H2_dict[\"htc\"][\"output\"][\"aero\"].append([\"secforce\", 1, 3, 10])\n",
    "    iea15_H2_dict[\"htc\"][\"output\"][\"aero\"].append([\"secforce\", 1, 1, 50])\n",
    "    iea15_H2_dict[\"htc\"][\"output\"][\"aero\"].append([\"secforce\", 1, 2, 50])\n",
    "    iea15_H2_dict[\"htc\"][\"output\"][\"aero\"].append([\"secforce\", 1, 3, 50])\n",
    "    iea15_H2_dict[\"htc\"][\"output\"][\"aero\"].append([\"secforce\", 1, 1, 100])\n",
    "    iea15_H2_dict[\"htc\"][\"output\"][\"aero\"].append([\"secforce\", 1, 2, 100])\n",
    "    iea15_H2_dict[\"htc\"][\"output\"][\"aero\"].append([\"secforce\", 1, 3, 100])\n",
    "    iea15_H2_dict[\"htc\"][\"output\"][\"aero\"].append([\"secforce\", 1, 1, 117])\n",
    "    iea15_H2_dict[\"htc\"][\"output\"][\"aero\"].append([\"secforce\", 1, 2, 117])\n",
    "    iea15_H2_dict[\"htc\"][\"output\"][\"aero\"].append([\"secforce\", 1, 3, 117])\n",
    "    iea15_H2_dict[\"htc\"][\"output\"][\"aero\"].append([\"int_force\", 1, 1, 1, 10])\n",
    "    iea15_H2_dict[\"htc\"][\"output\"][\"aero\"].append([\"int_force\", 1, 1, 2, 10])\n",
    "    iea15_H2_dict[\"htc\"][\"output\"][\"aero\"].append([\"int_force\", 1, 1, 3, 10])\n",
    "    iea15_H2_dict[\"htc\"][\"output\"][\"aero\"].append([\"int_force\", 1, 1, 1, 50])\n",
    "    iea15_H2_dict[\"htc\"][\"output\"][\"aero\"].append([\"int_force\", 1, 1, 2, 50])\n",
    "    iea15_H2_dict[\"htc\"][\"output\"][\"aero\"].append([\"int_force\", 1, 1, 3, 50])\n",
    "    iea15_H2_dict[\"htc\"][\"output\"][\"aero\"].append([\"int_force\", 1, 1, 1, 100])\n",
    "    iea15_H2_dict[\"htc\"][\"output\"][\"aero\"].append([\"int_force\", 1, 1, 2, 100])\n",
    "    iea15_H2_dict[\"htc\"][\"output\"][\"aero\"].append([\"int_force\", 1, 1, 3, 100])\n",
    "    iea15_H2_dict[\"htc\"][\"output\"][\"aero\"].append([\"int_force\", 1, 1, 1, 117])\n",
    "    iea15_H2_dict[\"htc\"][\"output\"][\"aero\"].append([\"int_force\", 1, 1, 2, 117])\n",
    "    iea15_H2_dict[\"htc\"][\"output\"][\"aero\"].append([\"int_force\", 1, 1, 3, 117])"
   ]
  },
  {
   "cell_type": "code",
   "execution_count": 19,
   "metadata": {},
   "outputs": [],
   "source": [
    "def adj_fix_rotor(iea15_H2_dict):\n",
    "    file_name_add = \"_Fix_rotor\"\n",
    "    iea15_H2_dict = create_file_names(iea15_H2_dict,file_name_add)\n",
    "    iea15_H2_dict[\"htc\"][\"new_htc_structure\"][\"constraint\"].update(\n",
    "        {\"fix0\": [\n",
    "        {\"mbdy\" : [\"towertop\"]},\n",
    "        \n",
    "        ]})\n",
    "    #adjust outputs for blades \n",
    "    return iea15_H2_dict\n",
    "#{\"mbdy\" : [\"towertop\"]}\n"
   ]
  },
  {
   "cell_type": "code",
   "execution_count": 20,
   "metadata": {},
   "outputs": [],
   "source": [
    "def adj_fix_tower_bottom(iea15_H2_dict):\n",
    "    file_name_add = \"_Fix_tow_bot\"\n",
    "    iea15_H2_dict = create_file_names(iea15_H2_dict,file_name_add)\n",
    "    iea15_H2_dict[\"htc\"][\"new_htc_structure\"][\"constraint\"].update(\n",
    "        {\"fix0\": [\n",
    "        {\"mbdy\" : [\"tower\"]}\n",
    "        ]})\n",
    "    \n",
    "    return iea15_H2_dict"
   ]
  },
  {
   "cell_type": "code",
   "execution_count": 21,
   "metadata": {},
   "outputs": [],
   "source": [
    "def adj_stiff_bld_noFPM(iea15_H2_dict):\n",
    "    file_name_add = \"_Stiff_bld\"\n",
    "    iea15_H2_dict = create_file_names(iea15_H2_dict,file_name_add)\n",
    "    b1 = jmespath.search(\n",
    "    \"new_htc_structure.main_body[?contains(name,'blade1')]|[0]\",\n",
    "    iea15_H2_dict[\"htc\"].as_dict()\n",
    "    )\n",
    "    i_ = iea15_H2_dict[\"htc\"][\"new_htc_structure\"][\"main_body\"].index(b1)\n",
    "    iea15_H2_dict[\"htc\"][\"new_htc_structure\"][\"main_body\"][i_][\"timoschenko_input\"][\"filename\"] = \".\".join(\n",
    "    iea15_H2_dict[\"htc\"][\"new_htc_structure\"][\"main_body\"][i_][\"timoschenko_input\"][\"filename\"].split(\".\")[:-1]\n",
    "        )+\"%s.st\"%file_name_add\n",
    "    iea15_H2_dict[\"st\"][\"blade1\"][0][0][\"E\"] = [el*1e7 for el in iea15_H2_dict[\"st\"][\"blade1\"][0][0][\"E\"]]\n",
    "    iea15_H2_dict[\"st\"][\"blade1\"][0][0][\"G\"] = [el*1e7 for el in iea15_H2_dict[\"st\"][\"blade1\"][0][0][\"G\"]]\n",
    "    return iea15_H2_dict"
   ]
  },
  {
   "cell_type": "code",
   "execution_count": 32,
   "metadata": {},
   "outputs": [],
   "source": [
    "def adj_stiff_tors_bld_noFPM(iea15_H2_dict):\n",
    "    file_name_add = \"_Stiff__tors_bld\"\n",
    "    iea15_H2_dict = create_file_names(iea15_H2_dict,file_name_add)\n",
    "    b1 = jmespath.search(\n",
    "    \"new_htc_structure.main_body[?contains(name,'blade1')]|[0]\",\n",
    "    iea15_H2_dict[\"htc\"].as_dict()\n",
    "    )\n",
    "    i_ = iea15_H2_dict[\"htc\"][\"new_htc_structure\"][\"main_body\"].index(b1)\n",
    "    iea15_H2_dict[\"htc\"][\"new_htc_structure\"][\"main_body\"][i_][\"timoschenko_input\"][\"filename\"] = \".\".join(\n",
    "    iea15_H2_dict[\"htc\"][\"new_htc_structure\"][\"main_body\"][i_][\"timoschenko_input\"][\"filename\"].split(\".\")[:-1]\n",
    "        )+\"%s.st\"%file_name_add\n",
    "    iea15_H2_dict[\"st\"][\"blade1\"][0][0][\"E\"] = [el*1e7 for el in iea15_H2_dict[\"st\"][\"blade1\"][0][0][\"E\"]]\n",
    "    iea15_H2_dict[\"st\"][\"blade1\"][0][0][\"G\"] = [el*1e7 for el in iea15_H2_dict[\"st\"][\"blade1\"][0][0][\"G\"]]\n",
    "    iea15_H2_dict[\"st\"][\"blade1\"][0][0][\"K\"] = [el*1e7 for el in iea15_H2_dict[\"st\"][\"blade1\"][0][0][\"K\"]]\n",
    "    return iea15_H2_dict"
   ]
  },
  {
   "cell_type": "code",
   "execution_count": 22,
   "metadata": {},
   "outputs": [],
   "source": [
    "def adj_stiff_bld_FPM(iea15_H2_dict):\n",
    "    file_name_add = \"_Stiff_bld\"\n",
    "    iea15_H2_dict = create_file_names(iea15_H2_dict,file_name_add)\n",
    "    b1 = jmespath.search(\n",
    "    \"new_htc_structure.main_body[?contains(name,'blade1')]|[0]\",\n",
    "    iea15_H2_dict[\"htc\"].as_dict()\n",
    "    )\n",
    "    i_ = iea15_H2_dict[\"htc\"][\"new_htc_structure\"][\"main_body\"].index(b1)\n",
    "    iea15_H2_dict[\"htc\"][\"new_htc_structure\"][\"main_body\"][i_][\"timoschenko_input\"][\"filename\"] = \".\".join(\n",
    "    iea15_H2_dict[\"htc\"][\"new_htc_structure\"][\"main_body\"][i_][\"timoschenko_input\"][\"filename\"].split(\".\")[:-1]\n",
    "        )+\"%s.st\"%file_name_add\n",
    "    iea15_H2_dict[\"st\"][\"blade1\"][0][0][\"K11\"] = [el*1e7 for el in iea15_H2_dict[\"st\"][\"blade1\"][0][0][\"K11\"]]\n",
    "    iea15_H2_dict[\"st\"][\"blade1\"][0][0][\"K22\"] = [el*1e7 for el in iea15_H2_dict[\"st\"][\"blade1\"][0][0][\"K22\"]]\n",
    "    iea15_H2_dict[\"st\"][\"blade1\"][0][0][\"K33\"] = [el*1e7 for el in iea15_H2_dict[\"st\"][\"blade1\"][0][0][\"K33\"]]\n",
    "    iea15_H2_dict[\"st\"][\"blade1\"][0][0][\"K44\"] = [el*1e7 for el in iea15_H2_dict[\"st\"][\"blade1\"][0][0][\"K44\"]]\n",
    "    iea15_H2_dict[\"st\"][\"blade1\"][0][0][\"K55\"] = [el*1e7 for el in iea15_H2_dict[\"st\"][\"blade1\"][0][0][\"K55\"]]\n",
    "    iea15_H2_dict[\"st\"][\"blade1\"][0][0][\"K66\"] = [el*1e7 for el in iea15_H2_dict[\"st\"][\"blade1\"][0][0][\"K66\"]]\n",
    "    return iea15_H2_dict"
   ]
  },
  {
   "cell_type": "code",
   "execution_count": 23,
   "metadata": {},
   "outputs": [],
   "source": [
    "def adj_blade_nbodies(iea15_H2_dict):\n",
    "    \"\"\"\n",
    "    changes number of bodies in the blade\n",
    "    \"\"\"\n",
    "    b1 = jmespath.search(\n",
    "    \"new_htc_structure.main_body[?contains(name,'blade1')]|[0]\",\n",
    "    iea15_H2_dict[\"htc\"].as_dict()\n",
    "    )\n",
    "    i_ = iea15_H2_dict[\"htc\"][\"new_htc_structure\"][\"main_body\"].index(b1)\n",
    "    nbodies = iea15_H2_dict[\"htc\"][\"new_htc_structure\"][\"main_body\"][i_][\"c2_def\"][\"nsec\"] - 1 #searches for nsec and creates nbodies - 1\n",
    "    iea15_H2_dict[\"htc\"][\"new_htc_structure\"][\"main_body\"][i_][\"nbodies\"] = nbodies\n",
    "    return iea15_H2_dict"
   ]
  },
  {
   "cell_type": "code",
   "execution_count": 24,
   "metadata": {},
   "outputs": [],
   "source": [
    "def add_blade_pos_sensor(iea15_H2_dict):\n",
    "    iea15_H2_dict[\"htc\"][\"output\"][\"mbdy\"].append([\"statevec_new\", \"blade1\", \"c2def\", \"blade1\", \"absolute\", 30, 1.0, 0.0, 0.0])\n",
    "    iea15_H2_dict[\"htc\"][\"output\"][\"mbdy\"].append([\"statevec_new\", \"blade1\", \"c2def\", \"blade1\", \"absolute\", 60, 1.0, 0.0, 0.0])\n",
    "    iea15_H2_dict[\"htc\"][\"output\"][\"mbdy\"].append([\"statevec_new\", \"blade1\", \"c2def\", \"blade1\", \"absolute\", 90, 1.0, 0.0, 0.0])\n",
    "    iea15_H2_dict[\"htc\"][\"output\"][\"mbdy\"].append([\"statevec_new\", \"blade1\", \"c2def\", \"blade1\", \"absolute\", 110, 1.0, 0.0, 0.0])\n",
    "    iea15_H2_dict[\"htc\"][\"output\"][\"mbdy\"].append([\"statevec_new\", \"blade2\", \"c2def\", \"blade2\", \"absolute\", 30, 1.0, 0.0, 0.0])\n",
    "    iea15_H2_dict[\"htc\"][\"output\"][\"mbdy\"].append([\"statevec_new\", \"blade2\", \"c2def\", \"blade2\", \"absolute\", 60, 1.0, 0.0, 0.0])\n",
    "    iea15_H2_dict[\"htc\"][\"output\"][\"mbdy\"].append([\"statevec_new\", \"blade2\", \"c2def\", \"blade2\", \"absolute\", 90, 1.0, 0.0, 0.0])\n",
    "    iea15_H2_dict[\"htc\"][\"output\"][\"mbdy\"].append([\"statevec_new\", \"blade2\", \"c2def\", \"blade2\", \"absolute\", 110, 1.0, 0.0, 0.0])\n",
    "    iea15_H2_dict[\"htc\"][\"output\"][\"mbdy\"].append([\"statevec_new\", \"blade3\", \"c2def\", \"blade3\", \"absolute\", 30, 1.0, 0.0, 0.0])\n",
    "    iea15_H2_dict[\"htc\"][\"output\"][\"mbdy\"].append([\"statevec_new\", \"blade3\", \"c2def\", \"blade3\", \"absolute\", 60, 1.0, 0.0, 0.0])\n",
    "    iea15_H2_dict[\"htc\"][\"output\"][\"mbdy\"].append([\"statevec_new\", \"blade3\", \"c2def\", \"blade3\", \"absolute\", 90, 1.0, 0.0, 0.0])\n",
    "    iea15_H2_dict[\"htc\"][\"output\"][\"mbdy\"].append([\"statevec_new\", \"blade3\", \"c2def\", \"blade3\", \"absolute\", 110, 1.0, 0.0, 0.0])\n",
    "    \n",
    "    return iea15_H2_dict"
   ]
  },
  {
   "cell_type": "code",
   "execution_count": 25,
   "metadata": {},
   "outputs": [],
   "source": [
    "def remove_msys(iea15_H2_dict):\n",
    "    iea15_H2_dict[\"htc\"][\"new_htc_structure\"][\"constraint\"].update(\n",
    "        {\"dll\": None})\n",
    "    iea15_H2_dict[\"htc\"][\"new_htc_structure\"].update(\n",
    "        {\"ext_sys\": None})\n",
    "    iea15_H2_dict[\"htc\"][\"output\"].update(\n",
    "        {\"esys\": None})\n",
    "    return iea15_H2_dict"
   ]
  },
  {
   "cell_type": "code",
   "execution_count": 26,
   "metadata": {},
   "outputs": [],
   "source": [
    "def remove_hydro(iea15_H2_dict):\n",
    "    #could have forloop just counting the number of times to repeat the operation.\n",
    "    iea15_H2_dict[\"htc\"].update(\n",
    "        {\"hydro\": None})\n",
    "    iea15_H2_dict[\"htc\"][\"new_htc_structure\"][\"main_body\"].update(\n",
    "        {1: None})\n",
    "    iea15_H2_dict[\"htc\"][\"new_htc_structure\"][\"main_body\"].update(\n",
    "        {1: None})\n",
    "    iea15_H2_dict[\"htc\"][\"new_htc_structure\"][\"main_body\"].update(\n",
    "        {1: None})\n",
    "    iea15_H2_dict[\"htc\"][\"new_htc_structure\"][\"main_body\"].update(\n",
    "        {1: None})\n",
    "    iea15_H2_dict[\"htc\"][\"new_htc_structure\"][\"main_body\"].update(\n",
    "        {1: None})\n",
    "    iea15_H2_dict[\"htc\"][\"new_htc_structure\"][\"main_body\"].update(\n",
    "        {1: None})\n",
    "    iea15_H2_dict[\"htc\"][\"new_htc_structure\"][\"main_body\"].update(\n",
    "        {1: None})\n",
    "    iea15_H2_dict[\"htc\"][\"new_htc_structure\"][\"main_body\"].update(\n",
    "        {1: None})\n",
    "    iea15_H2_dict[\"htc\"][\"new_htc_structure\"][\"main_body\"].update(\n",
    "        {1: None})\n",
    "    iea15_H2_dict[\"htc\"][\"new_htc_structure\"][\"orientation\"][\"relative\"].update(\n",
    "        {1: None})\n",
    "    iea15_H2_dict[\"htc\"][\"new_htc_structure\"][\"orientation\"][\"relative\"].update(\n",
    "        {1: None})\n",
    "    iea15_H2_dict[\"htc\"][\"new_htc_structure\"][\"orientation\"][\"relative\"].update(\n",
    "        {1: None})\n",
    "    iea15_H2_dict[\"htc\"][\"new_htc_structure\"][\"orientation\"][\"relative\"].update(\n",
    "        {1: None})\n",
    "    iea15_H2_dict[\"htc\"][\"new_htc_structure\"][\"orientation\"][\"relative\"].update(\n",
    "        {1: None})\n",
    "    iea15_H2_dict[\"htc\"][\"new_htc_structure\"][\"orientation\"][\"relative\"].update(\n",
    "        {1: None})\n",
    "    iea15_H2_dict[\"htc\"][\"new_htc_structure\"][\"orientation\"][\"relative\"].update(\n",
    "        {1: None})\n",
    "    iea15_H2_dict[\"htc\"][\"new_htc_structure\"][\"orientation\"][\"relative\"].update(\n",
    "        {1: None})\n",
    "    iea15_H2_dict[\"htc\"][\"new_htc_structure\"][\"orientation\"][\"relative\"].update(\n",
    "        {1: None})\n",
    "    iea15_H2_dict[\"htc\"][\"new_htc_structure\"][\"constraint\"][\"fix1\"].update(\n",
    "        {0: None})\n",
    "    iea15_H2_dict[\"htc\"][\"new_htc_structure\"][\"constraint\"][\"fix1\"].update(\n",
    "        {0: None})\n",
    "    iea15_H2_dict[\"htc\"][\"new_htc_structure\"][\"constraint\"][\"fix1\"].update(\n",
    "        {0: None})\n",
    "    iea15_H2_dict[\"htc\"][\"new_htc_structure\"][\"constraint\"][\"fix1\"].update(\n",
    "        {0: None})\n",
    "    iea15_H2_dict[\"htc\"][\"new_htc_structure\"][\"constraint\"][\"fix1\"].update(\n",
    "        {0: None})\n",
    "    iea15_H2_dict[\"htc\"][\"new_htc_structure\"][\"constraint\"][\"fix1\"].update(\n",
    "        {0: None})\n",
    "    iea15_H2_dict[\"htc\"][\"new_htc_structure\"][\"constraint\"][\"fix1\"].update(\n",
    "        {0: None})\n",
    "    iea15_H2_dict[\"htc\"][\"new_htc_structure\"][\"constraint\"][\"fix1\"].update(\n",
    "        {0: None})\n",
    "    iea15_H2_dict[\"htc\"][\"new_htc_structure\"][\"constraint\"][\"fix1\"].update(\n",
    "        {0: None})\n",
    "    iea15_H2_dict[\"htc\"][\"new_htc_structure\"][\"constraint\"][\"fix1\"].update(\n",
    "        {0: None})\n",
    "    iea15_H2_dict[\"htc\"][\"new_htc_structure\"][\"constraint\"][\"fix1\"].update(\n",
    "        {0: None})\n",
    "    iea15_H2_dict[\"htc\"][\"new_htc_structure\"][\"constraint\"][\"fix1\"].update(\n",
    "        {0: None})\n",
    "    \n",
    "    return iea15_H2_dict"
   ]
  },
  {
   "cell_type": "markdown",
   "metadata": {},
   "source": [
    "# HAWC2 Generate cases"
   ]
  },
  {
   "cell_type": "code",
   "execution_count": 29,
   "metadata": {},
   "outputs": [],
   "source": [
    "def generate_steady_state_wo_ctrl(iea15_H2_dict, wsp, prepend_str):\n",
    "    file_name_add = \"_Wo_ctrl_steady_%sms\"%wsp\n",
    "    iea15_H2_dict = create_file_names(iea15_H2_dict,file_name_add, prepend_str)\n",
    "    iea15_H2_dict[\"htc\"][\"simulation\"][\"time_stop\"] = 200\n",
    "    iea15_H2_dict[\"htc\"][\"simulation\"][\"solvertype\"] = 2\n",
    "    iea15_H2_dict[\"htc\"][\"simulation\"][\"intial_condition\"] = 1 \n",
    "    # need to set a wsp and also change several inputs to change bearings, use omega value, remove controller, change output.\n",
    "    iea15_H2_dict[\"htc\"][\"wind\"][\"wsp\"] = wsp\n",
    "    iea15_H2_dict[\"htc\"].update({\"dll\":None})\n",
    "    # look up rotor speed for wsp\n",
    "    rotor_speed_rad = interpolate_value(\"Wind [m/s]\", \"Rotor Speed [rpm]\", iea15_data2, wsp)* (2 * 3.141592653589793 / 60)\n",
    "    blade_pitch = interpolate_value(\"Wind [m/s]\", \"Pitch [deg]\", iea15_data2, wsp)\n",
    "    # change orientations\n",
    "    omega = rotor_speed_rad # need to get this in list with wsp\n",
    "    #changes to integer for windio model\n",
    "    iea15_H2_dict[\"htc\"][\"new_htc_structure\"][\"orientation\"][\"relative\"][12]['mbdy2_ini_rotvec_d1'] = [0,0,-1,omega]\n",
    "    iea15_H2_dict[\"htc\"][\"new_htc_structure\"][\"orientation\"][\"relative\"][16][\"mbdy2_eulerang\"] =  [0,0, - blade_pitch]\n",
    "    iea15_H2_dict[\"htc\"][\"new_htc_structure\"][\"orientation\"][\"relative\"][17][\"mbdy2_eulerang\"] =  [0,0, - blade_pitch]\n",
    "    iea15_H2_dict[\"htc\"][\"new_htc_structure\"][\"orientation\"][\"relative\"][18][\"mbdy2_eulerang\"] =  [0,0, - blade_pitch]\n",
    "\n",
    "    #several removals and additions of sections.\n",
    "    #iea15_H2_dict[\"htc\"][\"new_htc_structure\"][\"constraint\"][\"bearing1\"].update({\"name\":\"shaft_rot\":None}) #ideally want to call out the name of bearing to delete\n",
    "    iea15_H2_dict[\"htc\"][\"new_htc_structure\"][\"constraint\"].update(\n",
    "        {\"bearing1\":None})\n",
    "    iea15_H2_dict[\"htc\"][\"new_htc_structure\"][\"constraint\"].update(\n",
    "        {\"bearing3\": \n",
    "        [{\"name\":\"shaft_rot\", \n",
    "        \"mbdy1\": [\"connector\", \"last\"],\n",
    "        \"mbdy2\": [\"shaft\", 1],\n",
    "        \"bearing_vector\": [2, 0, 0, -1],\n",
    "        \"omegas\": [omega]}]\n",
    "        })\n",
    "    #now i want to delete specify bearing 2 and replace with fix1\n",
    "    iea15_H2_dict[\"htc\"][\"new_htc_structure\"][\"constraint\"].update(\n",
    "        {\"bearing2\":None}) \n",
    "\n",
    "    iea15_H2_dict[\"htc\"][\"new_htc_structure\"][\"constraint\"][\"fix1\"].append(\n",
    "        HTC_dict({\n",
    "       \"mbdy1\": [\"hub1\", \"last\"],\n",
    "       \"mbdy2\": [\"blade1\" , 1]})\n",
    "       )                                                                \n",
    "    iea15_H2_dict[\"htc\"][\"new_htc_structure\"][\"constraint\"][\"fix1\"].append(\n",
    "        HTC_dict({\n",
    "       \"mbdy1\": [\"hub2\", \"last\"],\n",
    "       \"mbdy2\": [\"blade2\" , 1]})\n",
    "       )                                                                         \n",
    "    iea15_H2_dict[\"htc\"][\"new_htc_structure\"][\"constraint\"][\"fix1\"].append(\n",
    "        HTC_dict({\n",
    "       \"mbdy1\": [\"hub3\", \"last\"],\n",
    "       \"mbdy2\": [\"blade3\" , 1]})\n",
    "       )            \n",
    "\n",
    "    #adjust output files:\n",
    "    iea15_H2_dict[\"htc\"][\"output\"][\"constraint\"].update(\n",
    "        {1: None})\n",
    "    iea15_H2_dict[\"htc\"][\"output\"][\"constraint\"].update(\n",
    "        {1: None})\n",
    "    iea15_H2_dict[\"htc\"][\"output\"][\"constraint\"].update(\n",
    "        {1: None}) # this is done to get rid of 3 occurences.\n",
    "    iea15_H2_dict[\"htc\"][\"output\"][\"constraint\"].update({0 : [\"bearing3\",\"shaft_rot\",2]}) # need to know its first instance (cannot call name)\n",
    "    \n",
    "    iea15_H2_dict[\"htc\"][\"output\"].update(\n",
    "        {\"dll\": None})\n",
    "    #Add floater properties    \n",
    "    #need to adjust for WINDIO.\n",
    "    iea15_H2_dict[\"htc\"][\"output\"].update(\n",
    "        {\"esys\":[[\"floater \"], [\"line1 \"], [\"line2 \"], [\"line3 \"]] \n",
    "         })\n",
    "\n",
    "    return iea15_H2_dict\n",
    "    \n",
    "  "
   ]
  },
  {
   "cell_type": "code",
   "execution_count": 30,
   "metadata": {},
   "outputs": [],
   "source": [
    "def generate_turb(iea15_H2_dict, wsp, prepend_str):\n",
    "    file_name_add = \"_turb_%sms\"%wsp\n",
    "    iea15_H2_dict = create_file_names(iea15_H2_dict,file_name_add, prepend_str)\n",
    "    iea15_H2_dict[\"htc\"][\"simulation\"][\"time_stop\"] = 800 \n",
    "    iea15_H2_dict[\"htc\"][\"simulation\"][\"solvertype\"] = 1 # maybe this is needed for turbulence?\n",
    "    iea15_H2_dict[\"htc\"][\"simulation\"][\"intial_condition\"] = 1 \n",
    "\n",
    "    iea15_H2_dict[\"htc\"][\"wind\"][\"wsp\"] = wsp\n",
    "    iea15_H2_dict[\"htc\"][\"wind\"][\"tint\"] = (0.14 * (0.75 * (wsp) + 5.6)) / wsp\n",
    "    iea15_H2_dict[\"htc\"][\"wind\"].update({\"shear_format\": [3, 0.20]}) # need because it isn't a single value\n",
    "    iea15_H2_dict[\"htc\"][\"wind\"][\"turb_format\"] = 1\n",
    "    iea15_H2_dict[\"htc\"][\"wind\"][\"scale_time_start\"] = 200\n",
    "    \n",
    "    \n",
    "    iea15_H2_dict[\"htc\"][\"wind\"].update({\"mann\": \n",
    "                                 {\"create_turb_parameters\": [29.4, 1.0, 3.9, 1001, 1],\n",
    "                                  \"filename_u\": [\"./turb/turb_l_%sms_29.4_ae_1.0_g_3.9_s1001_hfc_1_u.bin\"%wsp],\n",
    "                                  \"filename_v\": [\"./turb/turb_l_%sms_29.4_ae_1.0_g_3.9_s1001_hfc_1_v.bin\"%wsp],\n",
    "                                  \"filename_w\": [\"./turb/turb_l_%sms_29.4_ae_1.0_g_3.9_s1001_hfc_1_w.bin\"%wsp],\n",
    "                                  \"box_dim_u\": [8192, 0.87890625],\n",
    "                                  \"box_dim_v\": [32, 8.12903],\n",
    "                                  \"box_dim_w\": [32, 8.12903]}\n",
    "                                  })\n",
    "    iea15_H2_dict[\"htc\"][\"wind\"][\"mann\"].add_comment(\"create_turb_parameters\", [\"L (length scale), alfa_epsilon, gamma, seed, high freq compensation\"])\n",
    "    iea15_H2_dict[\"htc\"][\"wind\"][\"mann\"].add_comment(\"box_dim_u\", [\"U*T/n_u\"])\n",
    "    iea15_H2_dict[\"htc\"][\"wind\"][\"mann\"].add_comment(\"box_dim_v\", [\"wid/(n_v-1), wid = rotdiam + 5%\"])\n",
    "    iea15_H2_dict[\"htc\"][\"wind\"][\"mann\"].add_comment(\"box_dim_w\", [\"ht/(n_w-1), ht = rotdiam + 5%\"])\n",
    "    return iea15_H2_dict\n"
   ]
  },
  {
   "cell_type": "markdown",
   "metadata": {},
   "source": [
    "# Build Simulations"
   ]
  },
  {
   "cell_type": "markdown",
   "metadata": {},
   "source": [
    "Need to have a certain sequence of commands to get hawc2 files printed which will run."
   ]
  },
  {
   "cell_type": "code",
   "execution_count": 33,
   "metadata": {},
   "outputs": [],
   "source": [
    "wind_speeds = [3, 5, 7, 9, 10, 10.5, 11, 13, 15, 20, 24] # only for 1_1_1 & 2_1_1 for power curve\n",
    "#wind_speeds = [4, 8, 10.8, 12, 18, 24]\n",
    "# [4, 6, 8, 10, 10.8, 11, 15, 20, 22, 24] # for step winds?\n",
    "wsp_turb = [8, 10.8 ,12, 18]"
   ]
  },
  {
   "cell_type": "code",
   "execution_count": 41,
   "metadata": {},
   "outputs": [],
   "source": [
    "for i, wsp in enumerate(wind_speeds):\n",
    "    iea15_template = load_iea15_template(template_file,base_filename,iea15_windio_repo_fpath)\n",
    "    iea15_template.write_hawc2(\".\") #resets the data files to be used.\n",
    "    add_str_damping(iea15_template)\n",
    "    adj_blade_nbodies(iea15_template)\n",
    "    adj_shaft_mass(iea15_template)\n",
    "    adj_ae_pc_files(iea15_template)\n",
    "    adj_blade_output_WINDIO(iea15_template)\n",
    "    adj_fix_rotor(iea15_template)\n",
    "    adj_ESYSmooring_ID(iea15_template)\n",
    "    flood_pontoons(iea15_template)\n",
    "    add_aero_sec_int_forces(iea15_template)\n",
    "    add_blade_pos_sensor(iea15_template)\n",
    "    generate_steady_state_wo_ctrl(iea15_template,wsp,\"1_1_1_\") # change based on design hierachy\n",
    "    remove_msys(iea15_template)\n",
    "    remove_hydro(iea15_template)\n",
    "    \n",
    "    if i != 0:\n",
    "        remove_viz_ani(iea15_template) #removes ani viz files except for first instance\n",
    "    iea15_template.write_hawc2(\".\")\n",
    "    "
   ]
  },
  {
   "cell_type": "code",
   "execution_count": 42,
   "metadata": {},
   "outputs": [],
   "source": [
    "for i, wsp in enumerate(wsp_turb):\n",
    "    iea15_template = load_iea15_template(template_file,base_filename,iea15_windio_repo_fpath)\n",
    "    iea15_template.write_hawc2(\".\") #resets the data files to be used.\n",
    "    add_str_damping(iea15_template)\n",
    "    adj_blade_nbodies(iea15_template)\n",
    "    adj_shaft_mass(iea15_template)\n",
    "    adj_ae_pc_files(iea15_template)\n",
    "    adj_blade_output_WINDIO(iea15_template)\n",
    "    adj_fix_rotor(iea15_template)\n",
    "    adj_ESYSmooring_ID(iea15_template)\n",
    "    flood_pontoons(iea15_template)\n",
    "    add_aero_sec_int_forces(iea15_template)\n",
    "    add_blade_pos_sensor(iea15_template)\n",
    "    generate_turb(iea15_template, wsp,\"1_1_2_\") # change based on design hierachy\n",
    "    remove_msys(iea15_template)\n",
    "    remove_hydro(iea15_template)\n",
    "    if i != 0:\n",
    "        remove_viz_ani(iea15_template) #removes ani viz files except for first instance\n",
    "    iea15_template.write_hawc2(\".\")"
   ]
  },
  {
   "cell_type": "code",
   "execution_count": 43,
   "metadata": {},
   "outputs": [],
   "source": [
    "for i, wsp in enumerate(wind_speeds):\n",
    "    iea15_template = load_iea15_template(template_file,base_filename,iea15_windio_repo_fpath)\n",
    "    iea15_template.write_hawc2(\".\") #resets the data files to be used.\n",
    "    add_str_damping(iea15_template)\n",
    "    adj_blade_nbodies(iea15_template)\n",
    "    adj_shaft_mass(iea15_template)\n",
    "    adj_ae_pc_files(iea15_template)\n",
    "    adj_blade_output_WINDIO(iea15_template)\n",
    "    adj_fix_rotor(iea15_template)\n",
    "    adj_stiff_bld_noFPM(iea15_template)\n",
    "    adj_ESYSmooring_ID(iea15_template)\n",
    "    flood_pontoons(iea15_template)\n",
    "    add_aero_sec_int_forces(iea15_template)\n",
    "    add_blade_pos_sensor(iea15_template)\n",
    "    generate_steady_state_wo_ctrl(iea15_template,wsp,\"1_2_1_\") # change based on design hierachy\n",
    "    remove_msys(iea15_template)\n",
    "    remove_hydro(iea15_template)\n",
    "    if i != 0:\n",
    "        remove_viz_ani(iea15_template) #removes ani viz files except for first instance\n",
    "    iea15_template.write_hawc2(\".\")"
   ]
  },
  {
   "cell_type": "code",
   "execution_count": 34,
   "metadata": {},
   "outputs": [],
   "source": [
    "for i, wsp in enumerate(wind_speeds):\n",
    "    iea15_template = load_iea15_template(template_file,base_filename,iea15_windio_repo_fpath)\n",
    "    iea15_template.write_hawc2(\".\") #resets the data files to be used.\n",
    "    add_str_damping(iea15_template)\n",
    "    adj_blade_nbodies(iea15_template)\n",
    "    adj_shaft_mass(iea15_template)\n",
    "    adj_ae_pc_files(iea15_template)\n",
    "    adj_blade_output_WINDIO(iea15_template)\n",
    "    adj_fix_rotor(iea15_template)\n",
    "    adj_stiff_tors_bld_noFPM(iea15_template)\n",
    "    adj_ESYSmooring_ID(iea15_template)\n",
    "    flood_pontoons(iea15_template)\n",
    "    add_aero_sec_int_forces(iea15_template)\n",
    "    add_blade_pos_sensor(iea15_template)\n",
    "    generate_steady_state_wo_ctrl(iea15_template,wsp,\"1_3_1_\") # change based on design hierachy\n",
    "    remove_msys(iea15_template)\n",
    "    remove_hydro(iea15_template)\n",
    "    if i != 0:\n",
    "        remove_viz_ani(iea15_template) #removes ani viz files except for first instance\n",
    "    iea15_template.write_hawc2(\".\")"
   ]
  },
  {
   "cell_type": "code",
   "execution_count": 44,
   "metadata": {},
   "outputs": [],
   "source": [
    "for i, wsp in enumerate(wind_speeds):\n",
    "    iea15_template = load_iea15_template(template_file,base_filename,iea15_windio_repo_fpath)\n",
    "    iea15_template.write_hawc2(\".\") #resets the data files to be used.\n",
    "    add_str_damping(iea15_template)\n",
    "    adj_blade_nbodies(iea15_template)\n",
    "    adj_shaft_mass(iea15_template)\n",
    "    adj_ae_pc_files(iea15_template)\n",
    "    adj_blade_output_WINDIO(iea15_template)\n",
    "    adj_fix_tower_bottom(iea15_template)\n",
    "    adj_ESYSmooring_ID(iea15_template)\n",
    "    flood_pontoons(iea15_template)\n",
    "    add_aero_sec_int_forces(iea15_template)\n",
    "    add_blade_pos_sensor(iea15_template)\n",
    "    generate_steady_state_wo_ctrl(iea15_template,wsp,\"2_1_1_\") # change based on design hierachy\n",
    "    remove_msys(iea15_template)\n",
    "    remove_hydro(iea15_template)\n",
    "    \n",
    "    if i != 0:\n",
    "        remove_viz_ani(iea15_template) #removes ani viz files except for first instance\n",
    "    iea15_template.write_hawc2(\".\")"
   ]
  },
  {
   "cell_type": "code",
   "execution_count": 28,
   "metadata": {},
   "outputs": [],
   "source": [
    "for i, wsp in enumerate(wind_speeds):\n",
    "    iea15_template = load_iea15_template(template_file,base_filename,iea15_windio_repo_fpath)\n",
    "    iea15_template.write_hawc2(\".\") #resets the data files to be used.\n",
    "    add_str_damping(iea15_template)\n",
    "    adj_blade_output_WINDIO(iea15_template)\n",
    "    adj_fix_tower_bottom(iea15_template)\n",
    "    generate_turb(iea15_template, wsp,\"2_1_2_\") # change based on design hierachy\n",
    "    if i != 0:\n",
    "        remove_viz_ani(iea15_template) #removes ani viz files except for first instance\n",
    "    iea15_template.write_hawc2(\".\")"
   ]
  },
  {
   "cell_type": "code",
   "execution_count": 45,
   "metadata": {},
   "outputs": [],
   "source": [
    "for i, wsp in enumerate(wind_speeds):\n",
    "    iea15_template = load_iea15_template(template_file,base_filename,iea15_windio_repo_fpath)\n",
    "    iea15_template.write_hawc2(\".\") #resets the data files to be used.\n",
    "    add_str_damping(iea15_template)\n",
    "    adj_blade_nbodies(iea15_template)\n",
    "    adj_blade_output_WINDIO(iea15_template)\n",
    "    adj_shaft_mass(iea15_template)\n",
    "    adj_ae_pc_files(iea15_template)\n",
    "    adj_ESYSmooring_ID(iea15_template)\n",
    "    flood_pontoons(iea15_template)\n",
    "    generate_steady_state_wo_ctrl(iea15_template,wsp,\"3_1_1_\") # change based on design hierachy\n",
    "    if i != 0:\n",
    "        remove_viz_ani(iea15_template) #removes ani viz files except for first instance\n",
    "    add_blade_pos_sensor(iea15_template)\n",
    "    iea15_template.write_hawc2(\".\")\n",
    "    "
   ]
  },
  {
   "cell_type": "code",
   "execution_count": 30,
   "metadata": {},
   "outputs": [],
   "source": [
    "for i, wsp in enumerate(wind_speeds):\n",
    "    iea15_template = load_iea15_template(template_file,base_filename,iea15_windio_repo_fpath)\n",
    "    iea15_template.write_hawc2(\".\") #resets the data files to be used.\n",
    "    add_str_damping(iea15_template)\n",
    "    adj_blade_output_WINDIO(iea15_template)\n",
    "    generate_turb(iea15_template, wsp,\"3_1_2_\") # change based on design hierachy\n",
    "    if i != 0:\n",
    "        remove_viz_ani(iea15_template) #removes ani viz files except for first instance\n",
    "    iea15_template.write_hawc2(\".\")"
   ]
  },
  {
   "cell_type": "markdown",
   "metadata": {},
   "source": [
    "# Filter Files"
   ]
  },
  {
   "cell_type": "markdown",
   "metadata": {},
   "source": [
    "Need to do this in run_series.py.\n",
    "Can test creating the array for the file to run."
   ]
  },
  {
   "cell_type": "code",
   "execution_count": null,
   "metadata": {},
   "outputs": [
    {
     "name": "stdout",
     "output_type": "stream",
     "text": [
      "3_1_1_15MW_Floating_Wo_ctrl_steady_4ms\n"
     ]
    }
   ],
   "source": [
    "res_folder = \"htc\"\n",
    "cases = [#\"1_1_1\", \n",
    "         #\"1_1_2\",\n",
    "         #\"1_2_1\",\n",
    "         #\"2_1_1\",\n",
    "         #\"2_1_2\",\n",
    "         \"3_1_1\",\n",
    "         #\"3_1_2\"\n",
    "         ]\n",
    "ms_filter = [4]\n",
    "filtered_files = functions.filter_files(res_folder,start_patterns=cases,ms_values = ms_filter)\n",
    "for item in filtered_files:\n",
    "    print(item)"
   ]
  },
  {
   "cell_type": "markdown",
   "metadata": {},
   "source": []
  }
 ],
 "metadata": {
  "kernelspec": {
   "display_name": "DTU_venv",
   "language": "python",
   "name": "python3"
  },
  "language_info": {
   "codemirror_mode": {
    "name": "ipython",
    "version": 3
   },
   "file_extension": ".py",
   "mimetype": "text/x-python",
   "name": "python",
   "nbconvert_exporter": "python",
   "pygments_lexer": "ipython3",
   "version": "3.11.5"
  }
 },
 "nbformat": 4,
 "nbformat_minor": 2
}
