{
 "cells": [
  {
   "cell_type": "markdown",
   "metadata": {},
   "source": [
    "# Notes"
   ]
  },
  {
   "cell_type": "markdown",
   "metadata": {},
   "source": [
    "v1.5: added blade pitch\n",
    "v1.4: updated turb generation and filter files function"
   ]
  },
  {
   "cell_type": "markdown",
   "metadata": {},
   "source": [
    "# Import"
   ]
  },
  {
   "cell_type": "code",
   "execution_count": 2,
   "metadata": {},
   "outputs": [],
   "source": [
    "import os\n",
    "import functions\n",
    "import numpy as np\n",
    "import pandas as pd\n",
    "from scipy.interpolate import interp1d\n",
    "import jmespath\n",
    "\n",
    "from windio_converter.io import HAWC2_dict\n",
    "from windio_converter.io import HTC_dict"
   ]
  },
  {
   "cell_type": "markdown",
   "metadata": {},
   "source": [
    "# Inputs"
   ]
  },
  {
   "cell_type": "code",
   "execution_count": 3,
   "metadata": {},
   "outputs": [],
   "source": [
    "template_file = \"IEA_15MW_RWT_UMaineSemi\"\n",
    "base_filename = \"15MW_UMaineSemi\"\n",
    "iea15_manual_repo_fpath =  \"C:/CRPO/02_Running_area/DTU_Thesis/IEA-15-240-RWT/HAWC2/IEA-15-240-RWT-UMaineSemi\"\n",
    "iea15_doc_fpath = \"C:/CRPO/02_Running_area/DTU_Thesis/IEA-15-240-RWT/Documentation\"\n",
    "iea15_file = \"IEA-15-240-RWT_tabular.xlsx\""
   ]
  },
  {
   "cell_type": "code",
   "execution_count": 4,
   "metadata": {},
   "outputs": [],
   "source": [
    "iea15_data = pd.read_excel(os.path.join(iea15_doc_fpath,iea15_file),sheet_name=\"Rotor Performance\")"
   ]
  },
  {
   "cell_type": "code",
   "execution_count": 5,
   "metadata": {},
   "outputs": [],
   "source": [
    "new_data = \"operation.txt\"\n",
    "iea15_data2 = pd.read_csv(os.path.join(iea15_doc_fpath,new_data), sep=';')\n",
    "iea15_data2.columns = iea15_data2.columns.str.strip()\n",
    "iea15_data2[\"Rotor Speed [rads]\"] = iea15_data2[\"Rotor Speed [rpm]\"]*(2 * np.pi / 60)"
   ]
  },
  {
   "cell_type": "markdown",
   "metadata": {},
   "source": [
    "# General Functions"
   ]
  },
  {
   "cell_type": "code",
   "execution_count": 6,
   "metadata": {},
   "outputs": [],
   "source": [
    "def interpolate_value(x_var,y_var,df,chosen_x_value):\n",
    "    \"\"\"\n",
    "    Interpolates the y-value for a given x-value based on a dataframe.\n",
    "\n",
    "    Parameters:\n",
    "    x_var (str): The name of the column with x values (independent variable).\n",
    "    y_var (str): The name of the column with y values (dependent variable).\n",
    "    df (pd.DataFrame): The dataframe containing the data. \n",
    "    chosen_x_value (float): The x-value for which to estimate the y-value.\n",
    "\n",
    "    Returns:\n",
    "    float: The interpolated y-value.\n",
    "    \"\"\"\n",
    "    # Ensure the dataframe is sorted by the x_column\n",
    "    df = df.sort_values(by=x_var)\n",
    "    # Create an interpolation function\n",
    "    interp_func = interp1d(df[x_var], df[y_var], kind=\"linear\", fill_value=\"extrapolate\")\n",
    "    # Interpolate the value\n",
    "    interpolated_value = interp_func(chosen_x_value)\n",
    "    return interpolated_value"
   ]
  },
  {
   "cell_type": "code",
   "execution_count": 7,
   "metadata": {},
   "outputs": [],
   "source": [
    "def load_iea15_template(template_file, base_filename, repo_path):\n",
    "    \"\"\"\n",
    "    Load the IEA 15MW HAWC2 template and return the dictionary.\n",
    "    \n",
    "    Args:\n",
    "        template_file (str): Name of the HAWC2 template file without extension.\n",
    "        base_filename (str): Start of all new files without extension.\n",
    "        repo_path (str): Path to the repository containing the template HAWC2 files.\n",
    "\n",
    "    Returns:\n",
    "        dict: The resulting IEA 15MW HAWC2 dictionary of the template model ready to be manipulated.\n",
    "    \"\"\"\n",
    "    iea15_H2 = HAWC2_dict().read_hawc2(repo_path, \"htc/%s.htc\"%template_file)\n",
    "    iea15_H2_dict = iea15_H2.copy()\n",
    "    iea15_H2_dict['htc_filename']='./htc/%s.htc'%base_filename\n",
    "    iea15_H2_dict[\"htc\"][\"simulation\"][\"visualization\"] = \"./visualization/%s.hdf5\"%base_filename\n",
    "    iea15_H2_dict[\"htc\"][\"simulation\"][\"logfile\"] = \"./log/%s.log\"%base_filename\n",
    "    iea15_H2_dict[\"htc\"][\"output\"][\"filename\"] = \"./res/%s.hdf5\"%base_filename\n",
    "    iea15_H2_dict[\"htc\"][\"simulation\"][\"animation\"] = \"./ani/%s.dat\"%base_filename\n",
    "    iea15_H2_dict[\"htc\"][\"new_htc_structure\"][\"ext_sys\"][0][\"data\"][0][1] = './HydroData/IEA-15-240-RWT-UMaineSemi'\n",
    "    return iea15_H2_dict"
   ]
  },
  {
   "cell_type": "code",
   "execution_count": 8,
   "metadata": {},
   "outputs": [],
   "source": [
    "def create_file_names(iea15_H2_dict, file_name_add, prepend_str=None):\n",
    "    \"\"\"\n",
    "    Create new file names for HAWC2 files and return the dictionary.\n",
    "    \n",
    "    Args:\n",
    "        iea15_H2_dict (HAWC2_dict): HAWC2 dictionary object\n",
    "        file_name_add (str): string of the descriptive text to add\n",
    "        prepend_str (str)(optional): If given, prepends the file names with this string\n",
    "\n",
    "    Returns:\n",
    "        dict: The resulting IEA 15MW HAWC2 dictionary with adjusted file names.\n",
    "    \"\"\"\n",
    "    # add str to end of file names\n",
    "    iea15_H2_dict[\"htc_filename\"] = \".\".join(iea15_H2_dict[\"htc_filename\"].split(\".\")[:-1])+\"%s.htc\"%file_name_add\n",
    "    iea15_H2_dict[\"htc\"][\"simulation\"][\"visualization\"] = \".\".join(iea15_H2_dict[\"htc\"][\"simulation\"][\"visualization\"].split(\".\")[:-1])+\"%s.hdf5\"%file_name_add\n",
    "    iea15_H2_dict[\"htc\"][\"simulation\"][\"logfile\"] = \".\".join(iea15_H2_dict[\"htc\"][\"simulation\"][\"logfile\"].split(\".\")[:-1])+\"%s.log\"%file_name_add\n",
    "    iea15_H2_dict[\"htc\"][\"output\"][\"filename\"] = \".\".join(iea15_H2_dict[\"htc\"][\"output\"][\"filename\"].split(\".\")[:-1])+\"%s.hdf5\"%file_name_add #.hdf5 is doubled but it works\n",
    "    iea15_H2_dict[\"htc\"][\"simulation\"][\"animation\"] = \".\".join(iea15_H2_dict[\"htc\"][\"simulation\"][\"animation\"].split(\".\")[:-1])+\"%s.dat\"%file_name_add\n",
    "    # Optional: prepend str to beginning of file names\n",
    "    if prepend_str:\n",
    "        iea15_H2_dict[\"htc_filename\"] = iea15_H2_dict[\"htc_filename\"].replace(\"htc/\",\"htc/%s\")%prepend_str\n",
    "        iea15_H2_dict[\"htc\"][\"simulation\"][\"visualization\"] = iea15_H2_dict[\"htc\"][\"simulation\"][\"visualization\"].replace(\"visualization/\",\"visualization/%s\")%prepend_str\n",
    "        iea15_H2_dict[\"htc\"][\"simulation\"][\"logfile\"] = iea15_H2_dict[\"htc\"][\"simulation\"][\"logfile\"].replace(\"log/\",\"log/%s\")%prepend_str\n",
    "        iea15_H2_dict[\"htc\"][\"output\"][\"filename\"] = iea15_H2_dict[\"htc\"][\"output\"][\"filename\"].replace(\"res/\",\"res/%s\")%prepend_str\n",
    "        iea15_H2_dict[\"htc\"][\"simulation\"][\"animation\"] = iea15_H2_dict[\"htc\"][\"simulation\"][\"animation\"].replace(\"ani/\",\"ani/%s\")%prepend_str\n",
    "    return iea15_H2_dict"
   ]
  },
  {
   "cell_type": "code",
   "execution_count": 9,
   "metadata": {},
   "outputs": [],
   "source": [
    "def remove_viz_ani(iea15_H2_dict):\n",
    "    iea15_H2_dict[\"htc\"][\"simulation\"].update({\"visualization\":None}) # removes heavy files\n",
    "    iea15_H2_dict[\"htc\"][\"simulation\"].update({\"animation\":None}) # removes heavy files\n",
    "    return iea15_H2_dict"
   ]
  },
  {
   "cell_type": "markdown",
   "metadata": {},
   "source": [
    "# HAWC2 Model Adjustments"
   ]
  },
  {
   "cell_type": "code",
   "execution_count": 10,
   "metadata": {},
   "outputs": [],
   "source": [
    "def add_damping(iea15_H2_dict):\n",
    "    iea15_H2_dict[\"htc\"].update({\"force\": {}})\n",
    "    iea15_H2_dict[\"htc\"][\"force\"].update(\n",
    "        {\"dll\" : \n",
    "         [{\"name\":\"fext\", \n",
    "        \"dll\": \"./extforce/ForceTimeSeries.dll\",\n",
    "        \"init\": [\"forcetimeseries_init\", \"./extforce/damp4_init_100.txt\"],\n",
    "        \"update\": \"dampveltimeseries_update\",\n",
    "        \"output\": \"output\",\n",
    "        \"mbdy\" : \"ifb\",\n",
    "        \"node\" : 1\n",
    "        }]}\n",
    "    )\n",
    "    return iea15_H2_dict"
   ]
  },
  {
   "cell_type": "code",
   "execution_count": 11,
   "metadata": {},
   "outputs": [],
   "source": [
    "def adj_blade_output(iea15_H2_dict):\n",
    "    #iea15_H2_dict[\"htc\"][\"output\"][\"mbdy\"][13] = HAWC2_dict([\"state\",\"pos\", \"blade1\", 33, 1.0, \"global\", \"#\", \"gl\", \"blade\", 1, \"tip\", \"pos\"])\n",
    "    iea15_H2_dict[\"htc\"][\"output\"][\"mbdy\"][13] = [\"state\",\"pos\", \"blade1\", 33, 1.0, \"global\", \"#\", \"gl\", \"blade\", 1, \"tip\", \"pos\"]\n",
    "    iea15_H2_dict[\"htc\"][\"output\"][\"mbdy\"].append([\"state\",\"pos\", \"blade2\", 33, 1.0, \"global\", \"#\", \"gl\", \"blade\", 2, \"tip\", \"pos\"])\n",
    "    iea15_H2_dict[\"htc\"][\"output\"][\"mbdy\"].append([\"state\",\"pos\", \"blade3\", 33, 1.0, \"global\", \"#\", \"gl\", \"blade\", 3, \"tip\", \"pos\"])\n",
    "    iea15_H2_dict[\"htc\"][\"output\"][\"mbdy\"].append([\"state\",\"pos\", \"blade1\", 33, 1.0, \"blade1\", \"#\", \"local\", \"blade\", 1, \"tip\", \"pos\"])\n",
    "    #cannot figure out how to update that item with new values. it works to add a new one using append.\n",
    "    #this should be moved to the original call. It will need to be changed for all.\n",
    "    return iea15_H2_dict      "
   ]
  },
  {
   "cell_type": "code",
   "execution_count": 12,
   "metadata": {},
   "outputs": [],
   "source": [
    "\n",
    "def adj_blade_nbodies(iea15_H2_dict):\n",
    "    \"\"\"\n",
    "    changes number of bodies in the blade\n",
    "    \"\"\"\n",
    "    b1 = jmespath.search(\n",
    "    \"new_htc_structure.main_body[?contains(name,'blade1')]|[0]\",\n",
    "    iea15_H2_dict[\"htc\"].as_dict()\n",
    "    )\n",
    "    i_ = iea15_H2_dict[\"htc\"][\"new_htc_structure\"][\"main_body\"].index(b1)\n",
    "    nbodies = iea15_H2_dict[\"htc\"][\"new_htc_structure\"][\"main_body\"][i_][\"c2_def\"][\"nsec\"] - 1 #searches for nsec and creates nbodies - 1\n",
    "    iea15_H2_dict[\"htc\"][\"new_htc_structure\"][\"main_body\"][i_][\"nbodies\"] = nbodies\n"
   ]
  },
  {
   "cell_type": "code",
   "execution_count": 13,
   "metadata": {},
   "outputs": [],
   "source": [
    "def add_aero_sec_int_forces(iea15_H2_dict):\n",
    "    iea15_H2_dict[\"htc\"][\"output\"][\"aero\"].append([\"secforce\", 1, 1, 10])\n",
    "    iea15_H2_dict[\"htc\"][\"output\"][\"aero\"].append([\"secforce\", 1, 2, 10])\n",
    "    iea15_H2_dict[\"htc\"][\"output\"][\"aero\"].append([\"secforce\", 1, 3, 10])\n",
    "    iea15_H2_dict[\"htc\"][\"output\"][\"aero\"].append([\"secforce\", 1, 1, 50])\n",
    "    iea15_H2_dict[\"htc\"][\"output\"][\"aero\"].append([\"secforce\", 1, 2, 50])\n",
    "    iea15_H2_dict[\"htc\"][\"output\"][\"aero\"].append([\"secforce\", 1, 3, 50])\n",
    "    iea15_H2_dict[\"htc\"][\"output\"][\"aero\"].append([\"secforce\", 1, 1, 100])\n",
    "    iea15_H2_dict[\"htc\"][\"output\"][\"aero\"].append([\"secforce\", 1, 2, 100])\n",
    "    iea15_H2_dict[\"htc\"][\"output\"][\"aero\"].append([\"secforce\", 1, 3, 100])\n",
    "    iea15_H2_dict[\"htc\"][\"output\"][\"aero\"].append([\"secforce\", 1, 1, 117])\n",
    "    iea15_H2_dict[\"htc\"][\"output\"][\"aero\"].append([\"secforce\", 1, 2, 117])\n",
    "    iea15_H2_dict[\"htc\"][\"output\"][\"aero\"].append([\"secforce\", 1, 3, 117])\n",
    "    iea15_H2_dict[\"htc\"][\"output\"][\"aero\"].append([\"int_force\", 1, 1, 1, 10])\n",
    "    iea15_H2_dict[\"htc\"][\"output\"][\"aero\"].append([\"int_force\", 1, 1, 2, 10])\n",
    "    iea15_H2_dict[\"htc\"][\"output\"][\"aero\"].append([\"int_force\", 1, 1, 3, 10])\n",
    "    iea15_H2_dict[\"htc\"][\"output\"][\"aero\"].append([\"int_force\", 1, 1, 1, 50])\n",
    "    iea15_H2_dict[\"htc\"][\"output\"][\"aero\"].append([\"int_force\", 1, 1, 2, 50])\n",
    "    iea15_H2_dict[\"htc\"][\"output\"][\"aero\"].append([\"int_force\", 1, 1, 3, 50])\n",
    "    iea15_H2_dict[\"htc\"][\"output\"][\"aero\"].append([\"int_force\", 1, 1, 1, 100])\n",
    "    iea15_H2_dict[\"htc\"][\"output\"][\"aero\"].append([\"int_force\", 1, 1, 2, 100])\n",
    "    iea15_H2_dict[\"htc\"][\"output\"][\"aero\"].append([\"int_force\", 1, 1, 3, 100])\n",
    "    iea15_H2_dict[\"htc\"][\"output\"][\"aero\"].append([\"int_force\", 1, 1, 1, 117])\n",
    "    iea15_H2_dict[\"htc\"][\"output\"][\"aero\"].append([\"int_force\", 1, 1, 2, 117])\n",
    "    iea15_H2_dict[\"htc\"][\"output\"][\"aero\"].append([\"int_force\", 1, 1, 3, 117])\n",
    "\n",
    "    return iea15_H2_dict"
   ]
  },
  {
   "cell_type": "code",
   "execution_count": 14,
   "metadata": {},
   "outputs": [],
   "source": [
    "def add_blade_pos_sensor(iea15_H2_dict):\n",
    "    iea15_H2_dict[\"htc\"][\"output\"][\"mbdy\"].append([\"statevec_new\", \"blade1\", \"c2def\", \"blade1\", \"absolute\", 30, 1.0, 0.0, 0.0])\n",
    "    iea15_H2_dict[\"htc\"][\"output\"][\"mbdy\"].append([\"statevec_new\", \"blade1\", \"c2def\", \"blade1\", \"absolute\", 60, 1.0, 0.0, 0.0])\n",
    "    iea15_H2_dict[\"htc\"][\"output\"][\"mbdy\"].append([\"statevec_new\", \"blade1\", \"c2def\", \"blade1\", \"absolute\", 90, 1.0, 0.0, 0.0])\n",
    "    iea15_H2_dict[\"htc\"][\"output\"][\"mbdy\"].append([\"statevec_new\", \"blade1\", \"c2def\", \"blade1\", \"absolute\", 110, 1.0, 0.0, 0.0])\n",
    "    iea15_H2_dict[\"htc\"][\"output\"][\"mbdy\"].append([\"statevec_new\", \"blade2\", \"c2def\", \"blade2\", \"absolute\", 30, 1.0, 0.0, 0.0])\n",
    "    iea15_H2_dict[\"htc\"][\"output\"][\"mbdy\"].append([\"statevec_new\", \"blade2\", \"c2def\", \"blade2\", \"absolute\", 60, 1.0, 0.0, 0.0])\n",
    "    iea15_H2_dict[\"htc\"][\"output\"][\"mbdy\"].append([\"statevec_new\", \"blade2\", \"c2def\", \"blade2\", \"absolute\", 90, 1.0, 0.0, 0.0])\n",
    "    iea15_H2_dict[\"htc\"][\"output\"][\"mbdy\"].append([\"statevec_new\", \"blade2\", \"c2def\", \"blade2\", \"absolute\", 110, 1.0, 0.0, 0.0])\n",
    "    iea15_H2_dict[\"htc\"][\"output\"][\"mbdy\"].append([\"statevec_new\", \"blade3\", \"c2def\", \"blade3\", \"absolute\", 30, 1.0, 0.0, 0.0])\n",
    "    iea15_H2_dict[\"htc\"][\"output\"][\"mbdy\"].append([\"statevec_new\", \"blade3\", \"c2def\", \"blade3\", \"absolute\", 60, 1.0, 0.0, 0.0])\n",
    "    iea15_H2_dict[\"htc\"][\"output\"][\"mbdy\"].append([\"statevec_new\", \"blade3\", \"c2def\", \"blade3\", \"absolute\", 90, 1.0, 0.0, 0.0])\n",
    "    iea15_H2_dict[\"htc\"][\"output\"][\"mbdy\"].append([\"statevec_new\", \"blade3\", \"c2def\", \"blade3\", \"absolute\", 110, 1.0, 0.0, 0.0])\n",
    "    \n",
    "    return iea15_H2_dict"
   ]
  },
  {
   "cell_type": "code",
   "execution_count": 15,
   "metadata": {},
   "outputs": [],
   "source": [
    "def add_shaft_force_sensor(iea15_H2_dict):\n",
    "    iea15_H2_dict[\"htc\"][\"output\"][\"mbdy\"].append([\"forcevec\", \"shaft\", 1, 1, \"shaft\"])\n",
    "    iea15_H2_dict[\"htc\"][\"output\"][\"mbdy\"].append([\"forcevec\", \"shaft\", 1, 1, \"global\"])\n",
    "    return iea15_H2_dict"
   ]
  },
  {
   "cell_type": "code",
   "execution_count": 16,
   "metadata": {},
   "outputs": [],
   "source": [
    "def adj_fix_rotor(iea15_H2_dict):\n",
    "    file_name_add = \"_Fix_rotor\"\n",
    "    iea15_H2_dict = create_file_names(iea15_H2_dict,file_name_add)\n",
    "    iea15_H2_dict[\"htc\"][\"new_htc_structure\"][\"constraint\"].update(\n",
    "        {\"fix0\": [\n",
    "        #{\"mbdy\" : [\"tower\"]},\n",
    "        {\"mbdy\" : [\"towertop\"]}\n",
    "        ]})\n",
    "    #adjust outputs for blades \n",
    "    return iea15_H2_dict\n"
   ]
  },
  {
   "cell_type": "code",
   "execution_count": 17,
   "metadata": {},
   "outputs": [],
   "source": [
    "def adj_fix_tower_bottom(iea15_H2_dict):\n",
    "    file_name_add = \"_Fix_tow_bot\"\n",
    "    iea15_H2_dict = create_file_names(iea15_H2_dict,file_name_add)\n",
    "    iea15_H2_dict[\"htc\"][\"new_htc_structure\"][\"constraint\"].update(\n",
    "        {\"fix0\": [\n",
    "        {\"mbdy\" : [\"tower\"]}\n",
    "        ]})\n",
    "    \n",
    "    return iea15_H2_dict"
   ]
  },
  {
   "cell_type": "code",
   "execution_count": 18,
   "metadata": {},
   "outputs": [],
   "source": [
    "def adj_stiff_bld_new(iea15_H2_dict):\n",
    "    file_name_add = \"_Stiff_bld\"\n",
    "    iea15_H2_dict = create_file_names(iea15_H2_dict,file_name_add)\n",
    "    iea15_H2_dict[\"htc\"][\"new_htc_structure\"][\"main_body\"][8][\"timoschenko_input\"][\"filename\"] = \".\".join(\n",
    "        iea15_H2_dict[\"htc\"][\"new_htc_structure\"][\"main_body\"][8][\"timoschenko_input\"][\"filename\"].split(\".\")[:-1]\n",
    "        )+\"%s.st\"%file_name_add\n",
    "    iea15_H2_dict[\"st\"][\"blade1\"][0][0][\"E\"] = [el*1e7 for el in iea15_H2_dict[\"st\"][\"blade1\"][0][0][\"E\"]]\n",
    "    iea15_H2_dict[\"st\"][\"blade1\"][0][0][\"G\"] = [el*1e7 for el in iea15_H2_dict[\"st\"][\"blade1\"][0][0][\"G\"]]\n",
    "    return iea15_H2_dict"
   ]
  },
  {
   "cell_type": "code",
   "execution_count": 24,
   "metadata": {},
   "outputs": [],
   "source": [
    "def adj_stiff_tors_bld_new(iea15_H2_dict):\n",
    "    file_name_add = \"_Stiff_tors_bld\"\n",
    "    iea15_H2_dict = create_file_names(iea15_H2_dict,file_name_add)\n",
    "    iea15_H2_dict[\"htc\"][\"new_htc_structure\"][\"main_body\"][8][\"timoschenko_input\"][\"filename\"] = \".\".join(\n",
    "        iea15_H2_dict[\"htc\"][\"new_htc_structure\"][\"main_body\"][8][\"timoschenko_input\"][\"filename\"].split(\".\")[:-1]\n",
    "        )+\"%s.st\"%file_name_add\n",
    "    iea15_H2_dict[\"st\"][\"blade1\"][0][0][\"E\"] = [el*1e7 for el in iea15_H2_dict[\"st\"][\"blade1\"][0][0][\"E\"]]\n",
    "    iea15_H2_dict[\"st\"][\"blade1\"][0][0][\"G\"] = [el*1e7 for el in iea15_H2_dict[\"st\"][\"blade1\"][0][0][\"G\"]]\n",
    "    iea15_H2_dict[\"st\"][\"blade1\"][0][0][\"K\"] = [el*1e7 for el in iea15_H2_dict[\"st\"][\"blade1\"][0][0][\"K\"]]\n",
    "    return iea15_H2_dict"
   ]
  },
  {
   "cell_type": "code",
   "execution_count": 19,
   "metadata": {},
   "outputs": [],
   "source": [
    "def update_tower_nbodies(iea15_H2_dict):\n",
    "    iea15_H2_dict[\"htc\"][\"new_htc_structure\"][\"main_body\"][1][\"nbodies\"] = 10"
   ]
  },
  {
   "cell_type": "markdown",
   "metadata": {},
   "source": [
    "# HAWC2 Generate cases"
   ]
  },
  {
   "cell_type": "code",
   "execution_count": 20,
   "metadata": {},
   "outputs": [],
   "source": [
    "def generate_steady_state_wo_ctrl(iea15_H2_dict, wsp, prepend_str):\n",
    "    file_name_add = \"_Wo_ctrl_steady_%sms\"%wsp\n",
    "    iea15_H2_dict = create_file_names(iea15_H2_dict,file_name_add, prepend_str)\n",
    "    iea15_H2_dict[\"htc\"][\"simulation\"][\"time_stop\"] = 200 \n",
    "    iea15_H2_dict[\"htc\"][\"simulation\"][\"solvertype\"] = 2\n",
    "    iea15_H2_dict[\"htc\"][\"simulation\"][\"intial_condition\"] = 1 \n",
    "    # need to set a wsp and also change several inputs to change bearings, use omega value, remove controller, change output.\n",
    "    iea15_H2_dict[\"htc\"][\"wind\"][\"wsp\"] = wsp\n",
    "    iea15_H2_dict[\"htc\"].update({\"dll\":None})\n",
    "    # look up rotor speed for wsp\n",
    "    rotor_speed_rad = interpolate_value(\"Wind [m/s]\", \"Rotor Speed [rpm]\", iea15_data2, wsp)* (2 * 3.141592653589793 / 60)\n",
    "    blade_pitch = interpolate_value(\"Wind [m/s]\", \"Pitch [deg]\", iea15_data2, wsp)\n",
    "    # change orientations\n",
    "    omega = rotor_speed_rad # need to get this in list with wsp\n",
    "    iea15_H2_dict[\"htc\"][\"new_htc_structure\"][\"orientation\"][\"relative\"][3]['mbdy2_ini_rotvec_d1'] = [0,0,-1,omega]\n",
    "    iea15_H2_dict[\"htc\"][\"new_htc_structure\"][\"orientation\"][\"relative\"][7][\"mbdy2_eulerang\"] =  [0,0, - blade_pitch]\n",
    "    iea15_H2_dict[\"htc\"][\"new_htc_structure\"][\"orientation\"][\"relative\"][8][\"mbdy2_eulerang\"] =  [0,0, - blade_pitch]\n",
    "    iea15_H2_dict[\"htc\"][\"new_htc_structure\"][\"orientation\"][\"relative\"][9][\"mbdy2_eulerang\"] =  [0,0, - blade_pitch]\n",
    "\n",
    "    #several removals and additions of sections.\n",
    "    #iea15_H2_dict[\"htc\"][\"new_htc_structure\"][\"constraint\"][\"bearing1\"].update({\"name\":\"shaft_rot\":None}) #ideally want to call out the name of bearing to delete\n",
    "    iea15_H2_dict[\"htc\"][\"new_htc_structure\"][\"constraint\"].update(\n",
    "        {\"bearing1\":None})\n",
    "    iea15_H2_dict[\"htc\"][\"new_htc_structure\"][\"constraint\"].update(\n",
    "        {\"bearing3\": \n",
    "        [{\"name\":\"shaft_rot\", \n",
    "        \"mbdy1\": [\"connector\", \"last\"],\n",
    "        \"mbdy2\": [\"shaft\", 1],\n",
    "        \"bearing_vector\": [2, 0, 0, -1],\n",
    "        \"omegas\": [omega]}]\n",
    "        })\n",
    "    #now i want to delete specify bearing 2 and replace with fix1\n",
    "    iea15_H2_dict[\"htc\"][\"new_htc_structure\"][\"constraint\"].update(\n",
    "        {\"bearing2\":None}) \n",
    "\n",
    "    iea15_H2_dict[\"htc\"][\"new_htc_structure\"][\"constraint\"][\"fix1\"].append(\n",
    "        HTC_dict({\n",
    "       \"mbdy1\": [\"hub1\", \"last\"],\n",
    "       \"mbdy2\": [\"blade1\" , 1]})\n",
    "       )                                                                \n",
    "    iea15_H2_dict[\"htc\"][\"new_htc_structure\"][\"constraint\"][\"fix1\"].append(\n",
    "        HTC_dict({\n",
    "       \"mbdy1\": [\"hub2\", \"last\"],\n",
    "       \"mbdy2\": [\"blade2\" , 1]})\n",
    "       )                                                                         \n",
    "    iea15_H2_dict[\"htc\"][\"new_htc_structure\"][\"constraint\"][\"fix1\"].append(\n",
    "        HTC_dict({\n",
    "       \"mbdy1\": [\"hub3\", \"last\"],\n",
    "       \"mbdy2\": [\"blade3\" , 1]})\n",
    "       )            \n",
    "\n",
    "    #adjust output files:\n",
    "    iea15_H2_dict[\"htc\"][\"output\"][\"constraint\"].update(\n",
    "        {1: None})\n",
    "    iea15_H2_dict[\"htc\"][\"output\"][\"constraint\"].update(\n",
    "        {1: None})\n",
    "    iea15_H2_dict[\"htc\"][\"output\"][\"constraint\"].update(\n",
    "        {1: None}) # this is done to get rid of 3 occurences.\n",
    "    iea15_H2_dict[\"htc\"][\"output\"][\"constraint\"].update({0 : [\"bearing3\",\"shaft_rot\",2]}) # need to know its first instance (cannot call name)\n",
    "    \n",
    "    iea15_H2_dict[\"htc\"][\"output\"].update(\n",
    "        {\"dll\": None})\n",
    "    #Add floater properties    \n",
    "    iea15_H2_dict[\"htc\"][\"output\"].update(\n",
    "        {\"esys\":[[\"floater\"], [\"line1\"], [\"line2\"], [\"line3\"]] \n",
    "         })\n",
    "\n",
    "    return iea15_H2_dict\n",
    "    \n",
    "  "
   ]
  },
  {
   "cell_type": "code",
   "execution_count": 21,
   "metadata": {},
   "outputs": [],
   "source": [
    "def generate_stepwind(iea15_H2_dict, wsp, prepend_str):\n",
    "    file_name_add = \"_stepwind_%sms\"%wsp\n",
    "    iea15_H2_dict = create_file_names(iea15_H2_dict,file_name_add, prepend_str)\n",
    "    iea15_H2_dict[\"htc\"][\"simulation\"][\"time_stop\"] = 2050 \n",
    "    iea15_H2_dict[\"htc\"][\"simulation\"][\"solvertype\"] = 2\n",
    "    iea15_H2_dict[\"htc\"][\"simulation\"][\"intial_condition\"] = 1 \n",
    "    iea15_H2_dict[\"htc\"][\"wind\"][\"wsp\"] = wsp\n",
    "    iea15_H2_dict[\"htc\"][\"output\"].update(\n",
    "        {\"esys\":[[\"floater\"], [\"line1\"], [\"line2\"], [\"line3\"]] \n",
    "         })\n",
    "    return iea15_H2_dict\n",
    "    "
   ]
  },
  {
   "cell_type": "code",
   "execution_count": 22,
   "metadata": {},
   "outputs": [],
   "source": [
    "def generate_turb(iea15_H2_dict, wsp, prepend_str):\n",
    "    file_name_add = \"_turb_%sms\"%wsp\n",
    "    iea15_H2_dict = create_file_names(iea15_H2_dict,file_name_add, prepend_str)\n",
    "    iea15_H2_dict[\"htc\"][\"simulation\"][\"time_stop\"] = 800 \n",
    "    iea15_H2_dict[\"htc\"][\"simulation\"][\"solvertype\"] = 1 # maybe this is needed for turbulence?\n",
    "    iea15_H2_dict[\"htc\"][\"simulation\"][\"intial_condition\"] = 1 \n",
    "\n",
    "    iea15_H2_dict[\"htc\"][\"wind\"][\"wsp\"] = wsp\n",
    "    iea15_H2_dict[\"htc\"][\"wind\"][\"tint\"] = (0.14 * (0.75 * (wsp) + 5.6)) / wsp\n",
    "    iea15_H2_dict[\"htc\"][\"wind\"].update({\"shear_format\": [3, 0.20]}) # need because it isn't a single value\n",
    "    iea15_H2_dict[\"htc\"][\"wind\"][\"turb_format\"] = 1\n",
    "    iea15_H2_dict[\"htc\"][\"wind\"][\"scale_time_start\"] = 200\n",
    "        \n",
    "    iea15_H2_dict[\"htc\"][\"wind\"].update({\"mann\": \n",
    "                                 {\"create_turb_parameters\": [29.4, 1.0, 3.9, 1001, 1],\n",
    "                                  \"filename_u\": [\"./turb/turb_l_%sms_29.4_ae_1.0_g_3.9_s1001_hfc_1_u.bin\"%wsp],\n",
    "                                  \"filename_v\": [\"./turb/turb_l_%sms_29.4_ae_1.0_g_3.9_s1001_hfc_1_v.bin\"%wsp],\n",
    "                                  \"filename_w\": [\"./turb/turb_l_%sms_29.4_ae_1.0_g_3.9_s1001_hfc_1_w.bin\"%wsp],\n",
    "                                  \"box_dim_u\": [8192, 0.87890625],\n",
    "                                  \"box_dim_v\": [32, 8.12903],\n",
    "                                  \"box_dim_w\": [32, 8.12903]}\n",
    "                                  })\n",
    "    iea15_H2_dict[\"htc\"][\"wind\"][\"mann\"].add_comment(\"create_turb_parameters\", [\"L (length scale), alfa_epsilon, gamma, seed, high freq compensation\"])\n",
    "    iea15_H2_dict[\"htc\"][\"wind\"][\"mann\"].add_comment(\"box_dim_u\", [\"U*T/n_u\"])\n",
    "    iea15_H2_dict[\"htc\"][\"wind\"][\"mann\"].add_comment(\"box_dim_v\", [\"wid/(n_v-1), wid = rotdiam + 5%\"])\n",
    "    iea15_H2_dict[\"htc\"][\"wind\"][\"mann\"].add_comment(\"box_dim_w\", [\"ht/(n_w-1), ht = rotdiam + 5%\"])\n",
    "    return iea15_H2_dict\n"
   ]
  },
  {
   "cell_type": "markdown",
   "metadata": {},
   "source": [
    "# Build Simulations"
   ]
  },
  {
   "cell_type": "markdown",
   "metadata": {},
   "source": [
    "Need to have a certain sequence of commands to get hawc2 files printed which will run."
   ]
  },
  {
   "cell_type": "code",
   "execution_count": 26,
   "metadata": {},
   "outputs": [],
   "source": [
    "\n",
    "wind_speeds = [0,3, 5, 7, 9, 10, 10.5, 11, 13, 15, 20, 24] # only for 1_1_1 & 2_1_1 for power curve\n",
    "#wind_speeds = [4, 8, 10.8, 12, 18, 24] # for rest of steady state\n",
    "# [4, 6, 8, 10, 10.8, 11, 15, 20, 22, 24] # for step winds?\n",
    "wsp_turb = [8, 10.8 ,12, 18]"
   ]
  },
  {
   "cell_type": "code",
   "execution_count": 27,
   "metadata": {},
   "outputs": [],
   "source": [
    "for i, wsp in enumerate(wind_speeds):\n",
    "    iea15_template = load_iea15_template(template_file,base_filename,iea15_manual_repo_fpath)\n",
    "    iea15_template.write_hawc2(\".\") #resets the data files to be used.\n",
    "    add_damping(iea15_template)\n",
    "    adj_blade_nbodies(iea15_template)\n",
    "    adj_blade_output(iea15_template)\n",
    "    adj_fix_rotor(iea15_template)\n",
    "    generate_steady_state_wo_ctrl(iea15_template,wsp,\"1_1_1_\") # change based on design hierachy\n",
    "    add_aero_sec_int_forces(iea15_template)\n",
    "    add_blade_pos_sensor(iea15_template)\n",
    "    add_shaft_force_sensor(iea15_template)\n",
    "    if i != 0:\n",
    "        remove_viz_ani(iea15_template) #removes ani viz files except for first instance\n",
    "    iea15_template.write_hawc2(\".\")\n",
    "    "
   ]
  },
  {
   "cell_type": "code",
   "execution_count": 28,
   "metadata": {},
   "outputs": [],
   "source": [
    "for i, wsp in enumerate(wind_speeds):\n",
    "    iea15_template = load_iea15_template(template_file,base_filename,iea15_manual_repo_fpath)\n",
    "    iea15_template.write_hawc2(\".\") #resets the data files to be used.\n",
    "    add_damping(iea15_template)\n",
    "    adj_blade_nbodies(iea15_template)\n",
    "    adj_blade_output(iea15_template)\n",
    "    adj_fix_rotor(iea15_template)\n",
    "    generate_turb(iea15_template, wsp,\"1_1_2_\") # change based on design hierachy\n",
    "    add_aero_sec_int_forces(iea15_template)\n",
    "    add_blade_pos_sensor(iea15_template)\n",
    "    if i != 0:\n",
    "        remove_viz_ani(iea15_template) #removes ani viz files except for first instance\n",
    "    iea15_template.write_hawc2(\".\")"
   ]
  },
  {
   "cell_type": "code",
   "execution_count": 29,
   "metadata": {},
   "outputs": [],
   "source": [
    "for i, wsp in enumerate(wind_speeds):\n",
    "    iea15_template = load_iea15_template(template_file,base_filename,iea15_manual_repo_fpath)\n",
    "    iea15_template.write_hawc2(\".\") #resets the data files to be used.\n",
    "    add_damping(iea15_template)\n",
    "    adj_blade_nbodies(iea15_template)\n",
    "    adj_blade_output(iea15_template)\n",
    "    adj_fix_rotor(iea15_template)\n",
    "    adj_stiff_bld_new(iea15_template)\n",
    "    generate_steady_state_wo_ctrl(iea15_template,wsp,\"1_2_1_\") # change based on design hierachy\n",
    "    add_aero_sec_int_forces(iea15_template)\n",
    "    add_blade_pos_sensor(iea15_template)\n",
    "    if i != 0:\n",
    "        remove_viz_ani(iea15_template) #removes ani viz files except for first instance\n",
    "    iea15_template.write_hawc2(\".\")"
   ]
  },
  {
   "cell_type": "code",
   "execution_count": 28,
   "metadata": {},
   "outputs": [],
   "source": [
    "for i, wsp in enumerate(wind_speeds):\n",
    "    iea15_template = load_iea15_template(template_file,base_filename,iea15_manual_repo_fpath)\n",
    "    iea15_template.write_hawc2(\".\") #resets the data files to be used.\n",
    "    add_damping(iea15_template)\n",
    "    adj_blade_nbodies(iea15_template)\n",
    "    adj_blade_output(iea15_template)\n",
    "    adj_fix_rotor(iea15_template)\n",
    "    adj_stiff_tors_bld_new(iea15_template)\n",
    "    generate_steady_state_wo_ctrl(iea15_template,wsp,\"1_3_1_\") # change based on design hierachy\n",
    "    add_aero_sec_int_forces(iea15_template)\n",
    "    add_blade_pos_sensor(iea15_template)\n",
    "    if i != 0:\n",
    "        remove_viz_ani(iea15_template) #removes ani viz files except for first instance\n",
    "    iea15_template.write_hawc2(\".\")"
   ]
  },
  {
   "cell_type": "code",
   "execution_count": 30,
   "metadata": {},
   "outputs": [
    {
     "ename": "KeyboardInterrupt",
     "evalue": "",
     "output_type": "error",
     "traceback": [
      "\u001b[1;31m---------------------------------------------------------------------------\u001b[0m",
      "\u001b[1;31mKeyboardInterrupt\u001b[0m                         Traceback (most recent call last)",
      "Cell \u001b[1;32mIn[30], line 2\u001b[0m\n\u001b[0;32m      1\u001b[0m \u001b[38;5;28;01mfor\u001b[39;00m i, wsp \u001b[38;5;129;01min\u001b[39;00m \u001b[38;5;28menumerate\u001b[39m(wind_speeds):\n\u001b[1;32m----> 2\u001b[0m     iea15_template \u001b[38;5;241m=\u001b[39m \u001b[43mload_iea15_template\u001b[49m\u001b[43m(\u001b[49m\u001b[43mtemplate_file\u001b[49m\u001b[43m,\u001b[49m\u001b[43mbase_filename\u001b[49m\u001b[43m,\u001b[49m\u001b[43miea15_manual_repo_fpath\u001b[49m\u001b[43m)\u001b[49m\n\u001b[0;32m      3\u001b[0m     iea15_template\u001b[38;5;241m.\u001b[39mwrite_hawc2(\u001b[38;5;124m\"\u001b[39m\u001b[38;5;124m.\u001b[39m\u001b[38;5;124m\"\u001b[39m) \u001b[38;5;66;03m#resets the data files to be used.\u001b[39;00m\n\u001b[0;32m      4\u001b[0m     add_damping(iea15_template)\n",
      "Cell \u001b[1;32mIn[10], line 13\u001b[0m, in \u001b[0;36mload_iea15_template\u001b[1;34m(template_file, base_filename, repo_path)\u001b[0m\n\u001b[0;32m      1\u001b[0m \u001b[38;5;28;01mdef\u001b[39;00m \u001b[38;5;21mload_iea15_template\u001b[39m(template_file, base_filename, repo_path):\n\u001b[0;32m      2\u001b[0m \u001b[38;5;250m    \u001b[39m\u001b[38;5;124;03m\"\"\"\u001b[39;00m\n\u001b[0;32m      3\u001b[0m \u001b[38;5;124;03m    Load the IEA 15MW HAWC2 template and return the dictionary.\u001b[39;00m\n\u001b[0;32m      4\u001b[0m \u001b[38;5;124;03m    \u001b[39;00m\n\u001b[1;32m   (...)\u001b[0m\n\u001b[0;32m     11\u001b[0m \u001b[38;5;124;03m        dict: The resulting IEA 15MW HAWC2 dictionary of the template model ready to be manipulated.\u001b[39;00m\n\u001b[0;32m     12\u001b[0m \u001b[38;5;124;03m    \"\"\"\u001b[39;00m\n\u001b[1;32m---> 13\u001b[0m     iea15_H2 \u001b[38;5;241m=\u001b[39m \u001b[43mHAWC2_dict\u001b[49m\u001b[43m(\u001b[49m\u001b[43m)\u001b[49m\u001b[38;5;241;43m.\u001b[39;49m\u001b[43mread_hawc2\u001b[49m\u001b[43m(\u001b[49m\u001b[43mrepo_path\u001b[49m\u001b[43m,\u001b[49m\u001b[43m \u001b[49m\u001b[38;5;124;43m\"\u001b[39;49m\u001b[38;5;124;43mhtc/\u001b[39;49m\u001b[38;5;132;43;01m%s\u001b[39;49;00m\u001b[38;5;124;43m.htc\u001b[39;49m\u001b[38;5;124;43m\"\u001b[39;49m\u001b[38;5;241;43m%\u001b[39;49m\u001b[43mtemplate_file\u001b[49m\u001b[43m)\u001b[49m\n\u001b[0;32m     14\u001b[0m     iea15_H2_dict \u001b[38;5;241m=\u001b[39m iea15_H2\u001b[38;5;241m.\u001b[39mcopy()\n\u001b[0;32m     15\u001b[0m     iea15_H2_dict[\u001b[38;5;124m'\u001b[39m\u001b[38;5;124mhtc_filename\u001b[39m\u001b[38;5;124m'\u001b[39m]\u001b[38;5;241m=\u001b[39m\u001b[38;5;124m'\u001b[39m\u001b[38;5;124m./htc/\u001b[39m\u001b[38;5;132;01m%s\u001b[39;00m\u001b[38;5;124m.htc\u001b[39m\u001b[38;5;124m'\u001b[39m\u001b[38;5;241m%\u001b[39mbase_filename\n",
      "File \u001b[1;32mC:\\CRPO\\01_GIT\\01_repository\\windio-converter\\build\\__editable__.windio_converter-0.2.0-py3-none-any\\windio_converter\\io\\hawc2.py:1035\u001b[0m, in \u001b[0;36mHAWC2_dict.read_hawc2\u001b[1;34m(self, path, htc_path)\u001b[0m\n\u001b[0;32m   1030\u001b[0m fname_pc \u001b[38;5;241m=\u001b[39m \u001b[38;5;28mself\u001b[39m[\u001b[38;5;124m\"\u001b[39m\u001b[38;5;124mhtc\u001b[39m\u001b[38;5;124m\"\u001b[39m][\u001b[38;5;124m\"\u001b[39m\u001b[38;5;124maero\u001b[39m\u001b[38;5;124m\"\u001b[39m][\u001b[38;5;124m\"\u001b[39m\u001b[38;5;124mpc_filename\u001b[39m\u001b[38;5;124m\"\u001b[39m]\n\u001b[0;32m   1031\u001b[0m fname_sts \u001b[38;5;241m=\u001b[39m jmespath\u001b[38;5;241m.\u001b[39msearch(\n\u001b[0;32m   1032\u001b[0m     \u001b[38;5;124m\"\u001b[39m\u001b[38;5;124mnew_htc_structure.main_body[*][name, timoschenko_input.filename]\u001b[39m\u001b[38;5;124m\"\u001b[39m,\n\u001b[0;32m   1033\u001b[0m     \u001b[38;5;28mself\u001b[39m[\u001b[38;5;124m\"\u001b[39m\u001b[38;5;124mhtc\u001b[39m\u001b[38;5;124m\"\u001b[39m]\u001b[38;5;241m.\u001b[39mas_dict(),\n\u001b[0;32m   1034\u001b[0m )\n\u001b[1;32m-> 1035\u001b[0m \u001b[38;5;28mself\u001b[39m[\u001b[38;5;124m\"\u001b[39m\u001b[38;5;124mae\u001b[39m\u001b[38;5;124m\"\u001b[39m] \u001b[38;5;241m=\u001b[39m \u001b[43mAE_list\u001b[49m\u001b[43m(\u001b[49m\u001b[43m)\u001b[49m\u001b[38;5;241;43m.\u001b[39;49m\u001b[43mread_ae\u001b[49m\u001b[43m(\u001b[49m\u001b[43mos\u001b[49m\u001b[38;5;241;43m.\u001b[39;49m\u001b[43mpath\u001b[49m\u001b[38;5;241;43m.\u001b[39;49m\u001b[43mjoin\u001b[49m\u001b[43m(\u001b[49m\u001b[43mpath\u001b[49m\u001b[43m,\u001b[49m\u001b[43m \u001b[49m\u001b[43mfname_ae\u001b[49m\u001b[43m)\u001b[49m\u001b[43m)\u001b[49m\n\u001b[0;32m   1036\u001b[0m \u001b[38;5;28mself\u001b[39m[\u001b[38;5;124m\"\u001b[39m\u001b[38;5;124mpc\u001b[39m\u001b[38;5;124m\"\u001b[39m] \u001b[38;5;241m=\u001b[39m PC_list()\u001b[38;5;241m.\u001b[39mread_pc(os\u001b[38;5;241m.\u001b[39mpath\u001b[38;5;241m.\u001b[39mjoin(path, fname_pc))\n\u001b[0;32m   1037\u001b[0m \u001b[38;5;28mself\u001b[39m[\u001b[38;5;124m\"\u001b[39m\u001b[38;5;124mst\u001b[39m\u001b[38;5;124m\"\u001b[39m] \u001b[38;5;241m=\u001b[39m HAWC2_dict()\n",
      "File \u001b[1;32mC:\\CRPO\\01_GIT\\01_repository\\windio-converter\\build\\__editable__.windio_converter-0.2.0-py3-none-any\\windio_converter\\io\\hawc2.py:588\u001b[0m, in \u001b[0;36mAE_list.read_ae\u001b[1;34m(self, filename)\u001b[0m\n\u001b[0;32m    576\u001b[0m \u001b[38;5;28;01mdef\u001b[39;00m \u001b[38;5;21mread_ae\u001b[39m(\u001b[38;5;28mself\u001b[39m, filename):\n\u001b[0;32m    577\u001b[0m \u001b[38;5;250m    \u001b[39m\u001b[38;5;124;03m\"\"\"Read an AE-file into self.\u001b[39;00m\n\u001b[0;32m    578\u001b[0m \n\u001b[0;32m    579\u001b[0m \u001b[38;5;124;03m    Parameters\u001b[39;00m\n\u001b[1;32m   (...)\u001b[0m\n\u001b[0;32m    586\u001b[0m \u001b[38;5;124;03m    self\u001b[39;00m\n\u001b[0;32m    587\u001b[0m \u001b[38;5;124;03m    \"\"\"\u001b[39;00m\n\u001b[1;32m--> 588\u001b[0m     \u001b[38;5;28;01mwith\u001b[39;00m \u001b[38;5;28mopen\u001b[39m(clean_filename(filename), \u001b[38;5;124m\"\u001b[39m\u001b[38;5;124mr\u001b[39m\u001b[38;5;124m\"\u001b[39m) \u001b[38;5;28;01mas\u001b[39;00m file:\n\u001b[0;32m    589\u001b[0m         \u001b[38;5;28mself\u001b[39m\u001b[38;5;241m.\u001b[39mfrom_ae(file\u001b[38;5;241m.\u001b[39mread())\n\u001b[0;32m    590\u001b[0m     \u001b[38;5;28;01mreturn\u001b[39;00m \u001b[38;5;28mself\u001b[39m\n",
      "File \u001b[1;32m<frozen codecs>:260\u001b[0m, in \u001b[0;36m__init__\u001b[1;34m(self, errors)\u001b[0m\n",
      "\u001b[1;31mKeyboardInterrupt\u001b[0m: "
     ]
    }
   ],
   "source": [
    "for i, wsp in enumerate(wind_speeds):\n",
    "    iea15_template = load_iea15_template(template_file,base_filename,iea15_manual_repo_fpath)\n",
    "    iea15_template.write_hawc2(\".\") #resets the data files to be used.\n",
    "    add_damping(iea15_template)\n",
    "    adj_blade_nbodies(iea15_template)\n",
    "    adj_blade_output(iea15_template)\n",
    "    adj_fix_tower_bottom(iea15_template)\n",
    "    generate_steady_state_wo_ctrl(iea15_template,wsp,\"2_1_1_\") # change based on design hierachy\n",
    "    add_aero_sec_int_forces(iea15_template)\n",
    "    add_blade_pos_sensor(iea15_template)\n",
    "    add_shaft_force_sensor(iea15_template)\n",
    "    update_tower_nbodies(iea15_template)\n",
    "    if i != 0:\n",
    "        remove_viz_ani(iea15_template) #removes ani viz files except for first instance\n",
    "    iea15_template.write_hawc2(\".\")"
   ]
  },
  {
   "cell_type": "code",
   "execution_count": null,
   "metadata": {},
   "outputs": [],
   "source": [
    "for i, wsp in enumerate(wind_speeds):\n",
    "    iea15_template = load_iea15_template(template_file,base_filename,iea15_manual_repo_fpath)\n",
    "    iea15_template.write_hawc2(\".\") #resets the data files to be used.\n",
    "    add_damping(iea15_template)\n",
    "    adj_blade_nbodies(iea15_template)\n",
    "    adj_blade_output(iea15_template)\n",
    "    adj_fix_tower_bottom(iea15_template)\n",
    "    generate_turb(iea15_template, wsp,\"2_1_2_\") # change based on design hierachy\n",
    "    add_aero_sec_int_forces(iea15_template)\n",
    "    add_blade_pos_sensor(iea15_template)\n",
    "    if i != 0:\n",
    "        remove_viz_ani(iea15_template) #removes ani viz files except for first instance\n",
    "    iea15_template.write_hawc2(\".\")"
   ]
  },
  {
   "cell_type": "code",
   "execution_count": null,
   "metadata": {},
   "outputs": [],
   "source": [
    "for i, wsp in enumerate(wind_speeds):\n",
    "    iea15_template = load_iea15_template(template_file,base_filename,iea15_manual_repo_fpath)\n",
    "    iea15_template.write_hawc2(\".\") #resets the data files to be used.\n",
    "    add_damping(iea15_template)\n",
    "    adj_blade_nbodies(iea15_template)\n",
    "    adj_blade_output(iea15_template)\n",
    "    generate_steady_state_wo_ctrl(iea15_template,wsp,\"3_1_1_\") # change based on design hierachy\n",
    "    add_aero_sec_int_forces(iea15_template)\n",
    "    add_blade_pos_sensor(iea15_template)\n",
    "    if i != 0:\n",
    "        remove_viz_ani(iea15_template) #removes ani viz files except for first instance\n",
    "    iea15_template.write_hawc2(\".\")\n",
    "    "
   ]
  },
  {
   "cell_type": "code",
   "execution_count": null,
   "metadata": {},
   "outputs": [],
   "source": [
    "stepwind = [4]\n"
   ]
  },
  {
   "cell_type": "code",
   "execution_count": null,
   "metadata": {},
   "outputs": [],
   "source": [
    "for i, wsp in enumerate(stepwind):\n",
    "    iea15_template = load_iea15_template(template_file,base_filename,iea15_manual_repo_fpath)\n",
    "    iea15_template.write_hawc2(\".\") #resets the data files to be used.\n",
    "    add_damping(iea15_template)\n",
    "    adj_blade_nbodies(iea15_template)\n",
    "    adj_blade_output(iea15_template)\n",
    "    generate_stepwind(iea15_template,wsp,\"3_1_3_\") # change based on design hierachy\n",
    "    add_aero_sec_int_forces(iea15_template)\n",
    "    add_blade_pos_sensor(iea15_template)\n",
    "    if i != 0:\n",
    "        remove_viz_ani(iea15_template) #removes ani viz files except for first instance\n",
    "    iea15_template.write_hawc2(\".\")"
   ]
  },
  {
   "cell_type": "code",
   "execution_count": null,
   "metadata": {},
   "outputs": [],
   "source": [
    "for i, wsp in enumerate(wind_speeds):\n",
    "    iea15_template = load_iea15_template(template_file,base_filename,iea15_manual_repo_fpath)\n",
    "    iea15_template.write_hawc2(\".\") #resets the data files to be used.\n",
    "    add_damping(iea15_template)\n",
    "    adj_blade_nbodies(iea15_template)\n",
    "    adj_blade_output(iea15_template)\n",
    "    generate_turb(iea15_template, wsp,\"3_1_2_\") # change based on design hierachy\n",
    "    add_aero_sec_int_forces(iea15_template)\n",
    "    add_blade_pos_sensor(iea15_template)\n",
    "    if i != 0:\n",
    "        remove_viz_ani(iea15_template) #removes ani viz files except for first instance\n",
    "    iea15_template.write_hawc2(\".\")"
   ]
  },
  {
   "cell_type": "code",
   "execution_count": 34,
   "metadata": {},
   "outputs": [],
   "source": [
    "for i, wsp in enumerate(wind_speeds):\n",
    "    iea15_template = load_iea15_template(template_file,base_filename,iea15_manual_repo_fpath)\n",
    "    iea15_template.write_hawc2(\".\") #resets the data files to be used.\n",
    "    add_damping(iea15_template)\n",
    "    adj_blade_nbodies(iea15_template)\n",
    "    adj_blade_output(iea15_template)\n",
    "    generate_steady_state_wo_ctrl(iea15_template,wsp,\"4_1_1_\") # change based on design hierachy\n",
    "    add_aero_sec_int_forces(iea15_template)\n",
    "    add_blade_pos_sensor(iea15_template)\n",
    "    if i != 0:\n",
    "        remove_viz_ani(iea15_template) #removes ani viz files except for first instance\n",
    "    iea15_template.write_hawc2(\".\")"
   ]
  },
  {
   "cell_type": "markdown",
   "metadata": {},
   "source": [
    "# Filter Files"
   ]
  },
  {
   "cell_type": "markdown",
   "metadata": {},
   "source": [
    "Need to do this in run_series.py.\n",
    "Can test creating the array for the file to run."
   ]
  },
  {
   "cell_type": "code",
   "execution_count": 2,
   "metadata": {},
   "outputs": [
    {
     "name": "stdout",
     "output_type": "stream",
     "text": [
      "1_1_1_15MW_UMaineSemi_Fix_rotor_Wo_ctrl_steady_4ms\n",
      "1_1_1_15MW_UMaineSemi_Fix_rotor_Wo_ctrl_steady_8ms\n",
      "1_1_2_15MW_UMaineSemi_Fix_rotor_turb_8ms\n",
      "1_2_1_15MW_UMaineSemi_Fix_rotor_Stiff_bld_Wo_ctrl_steady_4ms\n",
      "1_2_1_15MW_UMaineSemi_Fix_rotor_Stiff_bld_Wo_ctrl_steady_8ms\n",
      "2_1_1_15MW_UMaineSemi_Fix_tow_bot_Wo_ctrl_steady_4ms\n",
      "2_1_1_15MW_UMaineSemi_Fix_tow_bot_Wo_ctrl_steady_8ms\n",
      "2_1_2_15MW_UMaineSemi_Fix_tow_bot_turb_8ms\n",
      "3_1_1_15MW_UMaineSemi_Wo_ctrl_steady_4ms\n",
      "3_1_1_15MW_UMaineSemi_Wo_ctrl_steady_8ms\n",
      "3_1_2_15MW_UMaineSemi_turb_8ms\n"
     ]
    }
   ],
   "source": [
    "res_folder = \"htc\"\n",
    "cases = [\"1_1_1\", \n",
    "         \"1_1_2\",\n",
    "         \"1_2_1\",\n",
    "         \"2_1_1\",\n",
    "         \"2_1_2\",\n",
    "         \"3_1_1\",\n",
    "         \"3_1_2\"]\n",
    "ms_filter = [4,8]\n",
    "filtered_files = functions.filter_files(res_folder,start_patterns=cases,ms_values = ms_filter)\n",
    "for item in filtered_files:\n",
    "    print(item)\n",
    "\n"
   ]
  },
  {
   "cell_type": "markdown",
   "metadata": {},
   "source": []
  }
 ],
 "metadata": {
  "kernelspec": {
   "display_name": "DTU_venv",
   "language": "python",
   "name": "python3"
  },
  "language_info": {
   "codemirror_mode": {
    "name": "ipython",
    "version": 3
   },
   "file_extension": ".py",
   "mimetype": "text/x-python",
   "name": "python",
   "nbconvert_exporter": "python",
   "pygments_lexer": "ipython3",
   "version": "3.11.5"
  }
 },
 "nbformat": 4,
 "nbformat_minor": 2
}
